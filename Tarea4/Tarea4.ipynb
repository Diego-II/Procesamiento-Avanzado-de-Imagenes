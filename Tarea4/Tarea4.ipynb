{
 "cells": [
  {
   "cell_type": "markdown",
   "metadata": {
    "colab_type": "text",
    "id": "view-in-github"
   },
   "source": [
    "<a href=\"https://colab.research.google.com/github/Diego-II/Procesamiento-Avanzado-de-Imagenes/blob/master/Tarea4/Tarea4.ipynb\" target=\"_parent\"><img src=\"https://colab.research.google.com/assets/colab-badge.svg\" alt=\"Open In Colab\"/></a>"
   ]
  },
  {
   "cell_type": "markdown",
   "metadata": {
    "id": "XKdbZkaCVTao"
   },
   "source": [
    "# Tarea 4: Deteccion de personas usando caracteristicas de tipo HOG.\n",
    "## Diego Irarrazaval\n",
    "\n",
    "# 1. Introduccion:\n",
    " \n",
    "- En la siguiente tarea se explorara e implementara el extractor de caracteristicas HOG [(Paper Original)](http://lear.inrialpes.fr/people/triggs/pubs/Dalal-cvpr05.pdf). \n",
    "- Para lograr esto, se deben obtener los gradientes en 'x' e 'y' (similar a la tarea 2) y luego obtener estos gradientes en coordenadas polares. El ultimo paso corresponde al calculo y normalizacion de los histogramas de gradientes. \n",
    "- Se espera que a pesar del 'pequeno' dataset de entrenamiento, se obtengan buenos resultados en los clasificadores producto de un gran trabajo de extraccion de caracteristicas. \n",
    "\n",
    "En las siquientes secciones:\n",
    "1. se muestra el desarrollo e implementacion de las funciones necesarias para poder obtener las caracteristicas de HOG. \n",
    "2. Se entrena un clasificador SVC utilizando una busqueda de grilla\n",
    "3. Se entrena un clasificador RandomForest con busqueda de grilla. \n",
    "4. Se prueban ambos clasificadores en el conjunto de test y se grafica la matriz de confusion. \n",
    "\n",
    "\n"
   ]
  },
  {
   "cell_type": "code",
   "execution_count": null,
   "metadata": {
    "id": "xiWbQUKyVCZy"
   },
   "outputs": [],
   "source": [
    "import os.path \n",
    "try:\n",
    "  import google.colab as colab\n",
    "  IN_COLAB = True\n",
    "except:\n",
    "  IN_COLAB = False\n",
    "\n",
    "# Cargamos los datos solo la primera vez que nos conectamos a la \"runtime\":\n",
    "# La descarga se hace automatica desde un repo en github\n",
    "if IN_COLAB:\n",
    "  !pip install -U opencv-python\n",
    "  %load_ext Cython\n",
    "  from google.colab.patches import cv2_imshow\n",
    "  if os.path.exists('/content/imagenes_tarea4_2020.zip'):\n",
    "    print(\"Datos ya descargados\")\n",
    "  else:\n",
    "    !wget https://github.com/Diego-II/Procesamiento-Avanzado-de-Imagenes/raw/master/Tarea4/imagenes_tarea4_2020.zip\n",
    "    !unzip /content/imagenes_tarea4_2020"
   ]
  },
  {
   "cell_type": "code",
   "execution_count": 2,
   "metadata": {
    "colab": {
     "base_uri": "https://localhost:8080/"
    },
    "id": "S3QJjiO1voNA",
    "outputId": "234ad8d3-dc30-4409-8445-402c8421c72b"
   },
   "outputs": [
    {
     "name": "stdout",
     "output_type": "stream",
     "text": [
      "car_side  chair  imagenes_tarea4_2020.zip  pedestrian  sample_data\n"
     ]
    }
   ],
   "source": [
    "!ls"
   ]
  },
  {
   "cell_type": "code",
   "execution_count": 3,
   "metadata": {
    "id": "P4C-BORqL2iK"
   },
   "outputs": [],
   "source": [
    "import glob\n",
    "import cv2\n",
    "import numpy as np"
   ]
  },
  {
   "cell_type": "markdown",
   "metadata": {
    "id": "2WhOsJKLOTqN"
   },
   "source": [
    "En la siguiente celda se realiza la carga de las imagenes y la transformacion a escala de grises de (64x128)"
   ]
  },
  {
   "cell_type": "code",
   "execution_count": 4,
   "metadata": {
    "id": "41f60DtOvxAW"
   },
   "outputs": [],
   "source": [
    "\n",
    "car_side_dir = '/content/car_side/'\n",
    "chair_dir = '/content/chair/'\n",
    "pedestrian_dir = '/content/pedestrian/'\n",
    "\n",
    "car_side = []\n",
    "chair = []\n",
    "pedestrian = []\n",
    "\n",
    "for im in glob.glob(pedestrian_dir+'*.png'):\n",
    "  temp = cv2.cvtColor(cv2.imread(im), cv2.COLOR_BGR2GRAY)\n",
    "  pedestrian.append(cv2.resize(temp, dsize = (64,128)))\n",
    "\n",
    "for im in glob.glob(chair_dir+'*.jpg'):\n",
    "  temp = cv2.cvtColor(cv2.imread(im), cv2.COLOR_BGR2GRAY)\n",
    "  chair.append(cv2.resize(temp, dsize = (64,128)))\n",
    "\n",
    "for im in glob.glob(car_side_dir+'*.jpg'):\n",
    "  temp = cv2.cvtColor(cv2.imread(im), cv2.COLOR_BGR2GRAY)\n",
    "  car_side.append(cv2.resize(temp, dsize = (64,128)))"
   ]
  },
  {
   "cell_type": "code",
   "execution_count": 5,
   "metadata": {
    "id": "jEI6W4QxMKPX"
   },
   "outputs": [],
   "source": [
    "show_im = False\n",
    "if show_im:\n",
    "  cv2_imshow(np.float32(pedestrian[0]))\n",
    "  cv2_imshow(np.float32(chair[0]))\n",
    "  cv2_imshow(np.float32(car_side[0]))"
   ]
  },
  {
   "cell_type": "markdown",
   "metadata": {
    "id": "UczHUQnVOxJk"
   },
   "source": [
    "Para la implementacion de los gradientes, se utiliza la funcion `Sobel` del paquete `cv2`."
   ]
  },
  {
   "cell_type": "code",
   "execution_count": 6,
   "metadata": {
    "id": "QoPxCUnTSAYf"
   },
   "outputs": [],
   "source": [
    "def grads(im):\n",
    "  ddepth = cv2.CV_32F\n",
    "    \n",
    "  grad_x = cv2.Sobel(im, ddepth, 1, 0, ksize=1)\n",
    "  grad_y = cv2.Sobel(im, ddepth, 0, 1, ksize=1)\n",
    "\n",
    "  return np.float32(grad_x), np.float32(grad_y)"
   ]
  },
  {
   "cell_type": "code",
   "execution_count": 7,
   "metadata": {
    "colab": {
     "base_uri": "https://localhost:8080/",
     "height": 273
    },
    "id": "YHWHRD5XQUVV",
    "outputId": "25ada4a5-5400-4117-f6dd-658b4e36efda"
   },
   "outputs": [
    {
     "data": {
      "image/png": "[encoded data removed]",
      "text/plain": [
       "<PIL.Image.Image image mode=L size=64x128 at 0x7F47B292E7F0>"
      ]
     },
     "metadata": {
      "tags": []
     },
     "output_type": "display_data"
    },
    {
     "data": {
      "image/png": "[encoded data removed]",
      "text/plain": [
       "<PIL.Image.Image image mode=L size=64x128 at 0x7F47A919BE80>"
      ]
     },
     "metadata": {
      "tags": []
     },
     "output_type": "display_data"
    }
   ],
   "source": [
    "gradx, grady = grads(pedestrian[0])\n",
    "cv2_imshow(gradx)\n",
    "cv2_imshow(grady)"
   ]
  },
  {
   "cell_type": "code",
   "execution_count": 8,
   "metadata": {
    "id": "y0LaN0KiUzEl"
   },
   "outputs": [],
   "source": [
    "def get_dir_vecs(gradx, grady):\n",
    "  mag = np.sqrt(np.square(gradx) + np.square(grady))\n",
    "  angle = np.arctan(np.abs(grady)/(gradx+0.000001))\n",
    "  return mag, np.degrees(angle)\n",
    "\n",
    "def get_dir_vecs_cv2(gx, gy):\n",
    "  # devuelve magnitud y angulo de los gradientes. \n",
    "  return cv2.cartToPolar(gx, abs(gy), angleInDegrees=True)\n"
   ]
  },
  {
   "cell_type": "code",
   "execution_count": 9,
   "metadata": {
    "colab": {
     "base_uri": "https://localhost:8080/",
     "height": 273
    },
    "id": "wA-1Qm4FYLv5",
    "outputId": "6ce572b6-a087-4ca8-8a35-dc30f580d862"
   },
   "outputs": [
    {
     "data": {
      "image/png": "[encoded data removed]",
      "text/plain": [
       "<PIL.Image.Image image mode=L size=64x128 at 0x7F47A91B9320>"
      ]
     },
     "metadata": {
      "tags": []
     },
     "output_type": "display_data"
    },
    {
     "data": {
      "image/png": "[encoded data removed]",
      "text/plain": [
       "<PIL.Image.Image image mode=L size=64x128 at 0x7F47A91B92E8>"
      ]
     },
     "metadata": {
      "tags": []
     },
     "output_type": "display_data"
    }
   ],
   "source": [
    "cv2_imshow(get_dir_vecs_cv2(gradx, grady)[0])\n",
    "cv2_imshow(get_dir_vecs_cv2(gradx, grady)[1])"
   ]
  },
  {
   "cell_type": "markdown",
   "metadata": {
    "id": "R0lm56BWEXdl"
   },
   "source": [
    "La implementacion del extractor de caracteristicas HOG se basa en el algoritmo descrito en el siguiente link: [Histogram of Oriented Gradients](https://www.learnopencv.com/histogram-of-oriented-gradients/).\n"
   ]
  },
  {
   "cell_type": "code",
   "execution_count": 10,
   "metadata": {
    "id": "isUP6J6tByXU"
   },
   "outputs": [],
   "source": [
    "def get_hog(mag, ang):\n",
    "  '''\n",
    "  Funcion que genera el histograma dadas la imagen con magnitudes\n",
    "  y la imagen con las direcciones (o angulos)\n",
    "\n",
    "  Si la imagen es de tamano 64x128, el histograma de salida es de 8x16\n",
    "  '''\n",
    "  # Forma del histograma\n",
    "  cell_rows = round(mag.shape[0]/8)\n",
    "  cell_cols = round(mag.shape[1]/8)\n",
    "\n",
    "  # Inicializamos el histograma con ceros\n",
    "  hog_hist = np.zeros((cell_rows,cell_cols,9))\n",
    "  \n",
    "  # Se recorre el histograma (8x16):\n",
    "  for r in range (0,cell_rows-1):\n",
    "    for c in range (0,cell_cols-1):\n",
    "      # Se va recorriendo la 'imagen' de magnitud y angulo con una ventana de 8x8\n",
    "      for row in range (r*8,r*8+8):\n",
    "        for col in range (c*8,c*8+8):\n",
    "          angle = ang[row][col]\n",
    "          grad_mag = mag[row][col]\n",
    "\n",
    "          #caso en que el angulo es multiplo de 20:\n",
    "          if angle%20 == 0:\n",
    "            # caso limite\n",
    "            if angle == 180:\n",
    "              hog_hist[r][c][0] += grad_mag\n",
    "              continue\n",
    "            hog_hist[r][c][int(angle/20)] += grad_mag\n",
    "            continue\n",
    "          # En caso que haya que dividir el voto:\n",
    "          bin_l = int(angle/20)\n",
    "\n",
    "          if bin_l < 8:\n",
    "            bin_r = bin_l + 1\n",
    "            hog_hist[r][c][bin_r] += grad_mag*((angle - (bin_l * 20))/20)\n",
    "            hog_hist[r][c][bin_l] += grad_mag*(((bin_r * 20) - angle)/20)\n",
    "          # Caso angulo entre [160,180).\n",
    "          else:\n",
    "            bin_r = 0\n",
    "            hog_hist[r][c][bin_r] += grad_mag*((angle - 160)/20)\n",
    "            hog_hist[r][c][bin_l] += grad_mag*((180 - angle)/20)\n",
    "  return hog_hist"
   ]
  },
  {
   "cell_type": "markdown",
   "metadata": {
    "id": "VUOgmRYELf58"
   },
   "source": [
    "Para la normalizacion de los histogramas, nos basamos en la documentacion y codigo fuente de Scikit-image: \n",
    "https://github.com/scikit-image/scikit-image/blob/d254263605c6c173c563258d51f44e65782d4365/skimage/feature/_hog.py#L22\n",
    "\n",
    "La norma utilizada corresponde a la norma L2.\n"
   ]
  },
  {
   "cell_type": "code",
   "execution_count": 11,
   "metadata": {
    "id": "tou_GuXkI6xL"
   },
   "outputs": [],
   "source": [
    "from numpy import ravel\n",
    "\n",
    "def hog_norm(hog_hist, eps = 1e-5):\n",
    "  normalized_blocks = np.zeros((hog_hist.shape[0]-1, hog_hist.shape[1]-1,\n",
    "                                  2, 2, 9))\n",
    "  for r in range(hog_hist.shape[0]-1):\n",
    "    for c in range(hog_hist.shape[1]-1):\n",
    "      block = hog_hist[r:r + 2, c:c + 2, :]\n",
    "      \n",
    "      normalized_blocks[r, c, :] = block / np.sqrt(np.sum(block ** 2) + eps ** 2)\n",
    "  \n",
    "  normalized_blocks = normalized_blocks.ravel()\n",
    "  return normalized_blocks"
   ]
  },
  {
   "cell_type": "code",
   "execution_count": 12,
   "metadata": {
    "id": "3i0wXwT-vkXy"
   },
   "outputs": [],
   "source": [
    "mag, ang = get_dir_vecs_cv2(gradx, grady)"
   ]
  },
  {
   "cell_type": "code",
   "execution_count": 13,
   "metadata": {
    "colab": {
     "base_uri": "https://localhost:8080/"
    },
    "id": "sZ007Zu2wIqi",
    "outputId": "bd42a5ed-95b5-49d2-f276-59823f579829"
   },
   "outputs": [
    {
     "data": {
      "text/plain": [
       "(3780,)"
      ]
     },
     "execution_count": 13,
     "metadata": {
      "tags": []
     },
     "output_type": "execute_result"
    }
   ],
   "source": [
    "holo = hog_norm(get_hog(mag, ang))\n",
    "holo.shape"
   ]
  },
  {
   "cell_type": "code",
   "execution_count": 14,
   "metadata": {
    "colab": {
     "base_uri": "https://localhost:8080/"
    },
    "id": "NFAvBs_M2c2y",
    "outputId": "6feab40e-29cf-465a-d21f-1a67815f6205"
   },
   "outputs": [
    {
     "name": "stdout",
     "output_type": "stream",
     "text": [
      "129\n",
      "43\n",
      "86\n"
     ]
    }
   ],
   "source": [
    "# Separamos en train y test:\n",
    "\n",
    "from sklearn.model_selection import train_test_split\n",
    "\n",
    "ped_train, ped_test = train_test_split(pedestrian, test_size=0.3, random_state=42)\n",
    "chair_train, chair_test = train_test_split(chair, test_size=0.3, random_state=42)\n",
    "car_side_train, car_side_test = train_test_split(car_side, test_size=0.3, random_state=42)\n",
    "\n",
    "print(len(ped_train))\n",
    "print(len(chair_train))\n",
    "print(len(car_side_train))"
   ]
  },
  {
   "cell_type": "markdown",
   "metadata": {
    "id": "NgHU4RT3NbSl"
   },
   "source": [
    "Se etiquetaran los datos de la siguiente forma:\n",
    "```\n",
    "pedestrian -> 0\n",
    "chair -> 1\n",
    "car_side -> 2\n",
    "```\n",
    "\n",
    "De esta forma, no hay que hacer transformaciones en las etiquetas debido a que son `str`. \n",
    "\n",
    "Se aclara en todo caso que para los entrenamientos de los modelos, se utiliza deteccion binaria: \n",
    "```\n",
    "pedestrian -> 0\n",
    "no pedestrian -> 1\n",
    "```\n",
    "\n",
    "Esto no genera diferencias en el desempeno de los modelos obtenidos. Para el conjunto de test se utilizan las 3 clases. "
   ]
  },
  {
   "cell_type": "code",
   "execution_count": 22,
   "metadata": {
    "id": "QAOi5xmm3ABn"
   },
   "outputs": [],
   "source": [
    "# Debemos etiquetar los datos ahora\n",
    "# Si BINARY_CLF entonces solo habra dos clases: pedestrian y no pedestrian. \n",
    "# De otra forma, habra 3: pedestrian, chair, car_side.\n",
    "\n",
    "BINARY_CLF = False\n",
    "y_ped = np.zeros(len(ped_train))\n",
    "if BINARY_CLF:\n",
    "  y_chair = np.ones(len(chair_train))\n",
    "  y_car_side = np.ones(len(car_side_train))\n",
    "else:\n",
    "  y_chair = np.ones(len(chair_train))\n",
    "  y_car_side = 2 * np.ones(len(car_side_train))\n",
    "\n",
    "X = np.asarray(ped_train + chair_train + car_side_train)\n",
    "y = np.concatenate([y_ped, y_chair, y_car_side])\n",
    "\n",
    "from sklearn.utils import shuffle\n",
    "X,  y_train = shuffle(X,  y, random_state=0)"
   ]
  },
  {
   "cell_type": "code",
   "execution_count": 23,
   "metadata": {
    "id": "b1DtpwsjPdzH"
   },
   "outputs": [],
   "source": [
    "# aplicamos hog a cada X_train:\n",
    "X_train = []\n",
    "for x in X:\n",
    "  gradx, grady = grads(x)\n",
    "  mag, ang = get_dir_vecs_cv2(gradx, grady)\n",
    "  temp = hog_norm(get_hog(mag, ang))\n",
    "  X_train.append(np.float32(temp))"
   ]
  },
  {
   "cell_type": "code",
   "execution_count": 17,
   "metadata": {
    "colab": {
     "base_uri": "https://localhost:8080/"
    },
    "id": "o9RQQmhR6xOg",
    "outputId": "df5b5b9d-a7e3-455b-9feb-a20a8962bf02"
   },
   "outputs": [
    {
     "name": "stdout",
     "output_type": "stream",
     "text": [
      "258\n",
      "258\n"
     ]
    }
   ],
   "source": [
    "print(len(X_train))\n",
    "print(len(y_train))\n"
   ]
  },
  {
   "cell_type": "code",
   "execution_count": 25,
   "metadata": {
    "id": "hfn7tulu4Cll"
   },
   "outputs": [],
   "source": [
    "from sklearn.svm import SVC\n",
    "from sklearn.model_selection import GridSearchCV\n",
    "#evaluation\n",
    "from sklearn.model_selection import cross_val_score"
   ]
  },
  {
   "cell_type": "code",
   "execution_count": 26,
   "metadata": {
    "colab": {
     "base_uri": "https://localhost:8080/"
    },
    "id": "Ez4WEYr04s2R",
    "outputId": "6931af74-e15c-4a70-b017-11290f875bbe"
   },
   "outputs": [
    {
     "name": "stdout",
     "output_type": "stream",
     "text": [
      "accuracy: 0.9804675716440423\n"
     ]
    }
   ],
   "source": [
    "svm = SVC()\n",
    "svm.fit(X_train,y_train)\n",
    "print(\"accuracy: \" + str(np.average(cross_val_score(svm, X_train, y_train, scoring='accuracy'))))\n"
   ]
  },
  {
   "cell_type": "markdown",
   "metadata": {
    "id": "C7TEwQ_Fff_c"
   },
   "source": [
    "En la siguiente celda, se define una grilla de parametros para realizar la busqueda:"
   ]
  },
  {
   "cell_type": "code",
   "execution_count": 42,
   "metadata": {
    "colab": {
     "base_uri": "https://localhost:8080/"
    },
    "id": "BKGyvgIB4zeq",
    "outputId": "f6f769d1-1360-456f-bc19-278f92e72641"
   },
   "outputs": [
    {
     "data": {
      "text/plain": [
       "GridSearchCV(cv=None, error_score=nan,\n",
       "             estimator=SVC(C=1.0, break_ties=False, cache_size=200,\n",
       "                           class_weight=None, coef0=0.0,\n",
       "                           decision_function_shape='ovr', degree=3,\n",
       "                           gamma='scale', kernel='rbf', max_iter=-1,\n",
       "                           probability=False, random_state=None, shrinking=True,\n",
       "                           tol=0.001, verbose=False),\n",
       "             iid='deprecated', n_jobs=None,\n",
       "             param_grid={'C': [1, 10, 100, 1000],\n",
       "                         'gamma': ['auto', 0.001, 0.0001],\n",
       "                         'kernel': ['linear', 'poly', 'rbf', 'sigmoid']},\n",
       "             pre_dispatch='2*n_jobs', refit=True, return_train_score=False,\n",
       "             scoring='accuracy', verbose=0)"
      ]
     },
     "execution_count": 42,
     "metadata": {
      "tags": []
     },
     "output_type": "execute_result"
    }
   ],
   "source": [
    "param_grid = {'kernel': ['linear', 'poly', 'rbf', 'sigmoid'], 'gamma': ['auto', 1e-3, 1e-4],\n",
    "                     'C': [1, 10, 100, 1000]}\n",
    "\n",
    "\n",
    "clf = GridSearchCV(\n",
    "    SVC(), param_grid, scoring='accuracy'\n",
    ")\n",
    "\n",
    "clf.fit(X_train, y_train)"
   ]
  },
  {
   "cell_type": "code",
   "execution_count": 43,
   "metadata": {
    "colab": {
     "base_uri": "https://localhost:8080/"
    },
    "id": "Gk2Dg37BR3k8",
    "outputId": "f2952d00-c10a-4c34-800b-b15dd10d036a"
   },
   "outputs": [
    {
     "name": "stdout",
     "output_type": "stream",
     "text": [
      "Mejores parametros en el train set: \n",
      "\n",
      "{'C': 1000, 'gamma': 0.001, 'kernel': 'poly'}\n",
      "\n",
      "Resultado obtenido con mejores parametros en el train set: 0.98\n",
      "\n",
      " Rendimiento durante la busqueda de hiperparametros en el train set: \n",
      " \n",
      "Acurracy = 0.97 para los siguientes parametros: {'C': 1, 'gamma': 'auto', 'kernel': 'linear'}\n",
      "\n",
      "Acurracy = 0.50 para los siguientes parametros: {'C': 1, 'gamma': 'auto', 'kernel': 'poly'}\n",
      "\n",
      "Acurracy = 0.50 para los siguientes parametros: {'C': 1, 'gamma': 'auto', 'kernel': 'rbf'}\n",
      "\n",
      "Acurracy = 0.50 para los siguientes parametros: {'C': 1, 'gamma': 'auto', 'kernel': 'sigmoid'}\n",
      "\n",
      "Acurracy = 0.97 para los siguientes parametros: {'C': 1, 'gamma': 0.001, 'kernel': 'linear'}\n",
      "\n",
      "Acurracy = 0.50 para los siguientes parametros: {'C': 1, 'gamma': 0.001, 'kernel': 'poly'}\n",
      "\n",
      "Acurracy = 0.82 para los siguientes parametros: {'C': 1, 'gamma': 0.001, 'kernel': 'rbf'}\n",
      "\n",
      "Acurracy = 0.56 para los siguientes parametros: {'C': 1, 'gamma': 0.001, 'kernel': 'sigmoid'}\n",
      "\n",
      "Acurracy = 0.97 para los siguientes parametros: {'C': 1, 'gamma': 0.0001, 'kernel': 'linear'}\n",
      "\n",
      "Acurracy = 0.50 para los siguientes parametros: {'C': 1, 'gamma': 0.0001, 'kernel': 'poly'}\n",
      "\n",
      "Acurracy = 0.50 para los siguientes parametros: {'C': 1, 'gamma': 0.0001, 'kernel': 'rbf'}\n",
      "\n",
      "Acurracy = 0.50 para los siguientes parametros: {'C': 1, 'gamma': 0.0001, 'kernel': 'sigmoid'}\n",
      "\n",
      "Acurracy = 0.97 para los siguientes parametros: {'C': 10, 'gamma': 'auto', 'kernel': 'linear'}\n",
      "\n",
      "Acurracy = 0.50 para los siguientes parametros: {'C': 10, 'gamma': 'auto', 'kernel': 'poly'}\n",
      "\n",
      "Acurracy = 0.92 para los siguientes parametros: {'C': 10, 'gamma': 'auto', 'kernel': 'rbf'}\n",
      "\n",
      "Acurracy = 0.85 para los siguientes parametros: {'C': 10, 'gamma': 'auto', 'kernel': 'sigmoid'}\n",
      "\n",
      "Acurracy = 0.97 para los siguientes parametros: {'C': 10, 'gamma': 0.001, 'kernel': 'linear'}\n",
      "\n",
      "Acurracy = 0.50 para los siguientes parametros: {'C': 10, 'gamma': 0.001, 'kernel': 'poly'}\n",
      "\n",
      "Acurracy = 0.97 para los siguientes parametros: {'C': 10, 'gamma': 0.001, 'kernel': 'rbf'}\n",
      "\n",
      "Acurracy = 0.96 para los siguientes parametros: {'C': 10, 'gamma': 0.001, 'kernel': 'sigmoid'}\n",
      "\n",
      "Acurracy = 0.97 para los siguientes parametros: {'C': 10, 'gamma': 0.0001, 'kernel': 'linear'}\n",
      "\n",
      "Acurracy = 0.50 para los siguientes parametros: {'C': 10, 'gamma': 0.0001, 'kernel': 'poly'}\n",
      "\n",
      "Acurracy = 0.83 para los siguientes parametros: {'C': 10, 'gamma': 0.0001, 'kernel': 'rbf'}\n",
      "\n",
      "Acurracy = 0.56 para los siguientes parametros: {'C': 10, 'gamma': 0.0001, 'kernel': 'sigmoid'}\n",
      "\n",
      "Acurracy = 0.97 para los siguientes parametros: {'C': 100, 'gamma': 'auto', 'kernel': 'linear'}\n",
      "\n",
      "Acurracy = 0.50 para los siguientes parametros: {'C': 100, 'gamma': 'auto', 'kernel': 'poly'}\n",
      "\n",
      "Acurracy = 0.97 para los siguientes parametros: {'C': 100, 'gamma': 'auto', 'kernel': 'rbf'}\n",
      "\n",
      "Acurracy = 0.97 para los siguientes parametros: {'C': 100, 'gamma': 'auto', 'kernel': 'sigmoid'}\n",
      "\n",
      "Acurracy = 0.97 para los siguientes parametros: {'C': 100, 'gamma': 0.001, 'kernel': 'linear'}\n",
      "\n",
      "Acurracy = 0.71 para los siguientes parametros: {'C': 100, 'gamma': 0.001, 'kernel': 'poly'}\n",
      "\n",
      "Acurracy = 0.97 para los siguientes parametros: {'C': 100, 'gamma': 0.001, 'kernel': 'rbf'}\n",
      "\n",
      "Acurracy = 0.97 para los siguientes parametros: {'C': 100, 'gamma': 0.001, 'kernel': 'sigmoid'}\n",
      "\n",
      "Acurracy = 0.97 para los siguientes parametros: {'C': 100, 'gamma': 0.0001, 'kernel': 'linear'}\n",
      "\n",
      "Acurracy = 0.50 para los siguientes parametros: {'C': 100, 'gamma': 0.0001, 'kernel': 'poly'}\n",
      "\n",
      "Acurracy = 0.97 para los siguientes parametros: {'C': 100, 'gamma': 0.0001, 'kernel': 'rbf'}\n",
      "\n",
      "Acurracy = 0.96 para los siguientes parametros: {'C': 100, 'gamma': 0.0001, 'kernel': 'sigmoid'}\n",
      "\n",
      "Acurracy = 0.97 para los siguientes parametros: {'C': 1000, 'gamma': 'auto', 'kernel': 'linear'}\n",
      "\n",
      "Acurracy = 0.50 para los siguientes parametros: {'C': 1000, 'gamma': 'auto', 'kernel': 'poly'}\n",
      "\n",
      "Acurracy = 0.97 para los siguientes parametros: {'C': 1000, 'gamma': 'auto', 'kernel': 'rbf'}\n",
      "\n",
      "Acurracy = 0.97 para los siguientes parametros: {'C': 1000, 'gamma': 'auto', 'kernel': 'sigmoid'}\n",
      "\n",
      "Acurracy = 0.97 para los siguientes parametros: {'C': 1000, 'gamma': 0.001, 'kernel': 'linear'}\n",
      "\n",
      "Acurracy = 0.98 para los siguientes parametros: {'C': 1000, 'gamma': 0.001, 'kernel': 'poly'}\n",
      "\n",
      "Acurracy = 0.97 para los siguientes parametros: {'C': 1000, 'gamma': 0.001, 'kernel': 'rbf'}\n",
      "\n",
      "Acurracy = 0.97 para los siguientes parametros: {'C': 1000, 'gamma': 0.001, 'kernel': 'sigmoid'}\n",
      "\n",
      "Acurracy = 0.97 para los siguientes parametros: {'C': 1000, 'gamma': 0.0001, 'kernel': 'linear'}\n",
      "\n",
      "Acurracy = 0.50 para los siguientes parametros: {'C': 1000, 'gamma': 0.0001, 'kernel': 'poly'}\n",
      "\n",
      "Acurracy = 0.97 para los siguientes parametros: {'C': 1000, 'gamma': 0.0001, 'kernel': 'rbf'}\n",
      "\n",
      "Acurracy = 0.97 para los siguientes parametros: {'C': 1000, 'gamma': 0.0001, 'kernel': 'sigmoid'}\n",
      "\n"
     ]
    }
   ],
   "source": [
    "print(\"Mejore parametro en el train set: \\n\")\n",
    "print(clf.best_params_)\n",
    "print(\"\\nResultado obtenido con mejores parametros en el train set: {:.2f}\".format(max(clf.cv_results_['mean_test_score'])))\n",
    "\n",
    "\n",
    "print(\"\\n Rendimiento durante la busqueda de hiperparametros en el train set: \\n \")\n",
    "means = clf.cv_results_['mean_test_score']\n",
    "for mean,  params in zip(means, clf.cv_results_['params']):\n",
    "    print('Acurracy = {:.2f} para los siguientes parametros: {}\\n'.format(mean, params))"
   ]
  },
  {
   "cell_type": "code",
   "execution_count": 59,
   "metadata": {
    "colab": {
     "base_uri": "https://localhost:8080/"
    },
    "id": "Zw_N_isBOetg",
    "outputId": "cbf69113-48b8-432b-a5d3-f83d1e94c085"
   },
   "outputs": [
    {
     "name": "stdout",
     "output_type": "stream",
     "text": [
      "Fitting 3 folds for each of 30 candidates, totalling 90 fits\n"
     ]
    },
    {
     "name": "stderr",
     "output_type": "stream",
     "text": [
      "[Parallel(n_jobs=-1)]: Using backend LokyBackend with 2 concurrent workers.\n",
      "[Parallel(n_jobs=-1)]: Done  28 tasks      | elapsed:  1.6min\n",
      "[Parallel(n_jobs=-1)]: Done  90 out of  90 | elapsed:  5.1min finished\n"
     ]
    },
    {
     "data": {
      "text/plain": [
       "RandomizedSearchCV(cv=3, error_score=nan,\n",
       "                   estimator=RandomForestClassifier(bootstrap=True,\n",
       "                                                    ccp_alpha=0.0,\n",
       "                                                    class_weight=None,\n",
       "                                                    criterion='gini',\n",
       "                                                    max_depth=None,\n",
       "                                                    max_features='auto',\n",
       "                                                    max_leaf_nodes=None,\n",
       "                                                    max_samples=None,\n",
       "                                                    min_impurity_decrease=0.0,\n",
       "                                                    min_impurity_split=None,\n",
       "                                                    min_samples_leaf=1,\n",
       "                                                    min_samples_split=2,\n",
       "                                                    min_weight_fraction_leaf=0.0,\n",
       "                                                    n_estimators=100,\n",
       "                                                    n_jobs...\n",
       "                   iid='deprecated', n_iter=30, n_jobs=-1,\n",
       "                   param_distributions={'bootstrap': [True, False],\n",
       "                                        'max_depth': [10, 25, 50, 75, 100,\n",
       "                                                      None],\n",
       "                                        'max_features': ['auto', 'sqrt'],\n",
       "                                        'min_samples_leaf': [1, 2, 4],\n",
       "                                        'min_samples_split': [2, 5, 10],\n",
       "                                        'n_estimators': [200, 500, 1000, 1250,\n",
       "                                                         1500]},\n",
       "                   pre_dispatch='2*n_jobs', random_state=None, refit=True,\n",
       "                   return_train_score=False, scoring='accuracy', verbose=3)"
      ]
     },
     "execution_count": 59,
     "metadata": {
      "tags": []
     },
     "output_type": "execute_result"
    }
   ],
   "source": [
    "from sklearn.ensemble import RandomForestClassifier\n",
    "from sklearn.model_selection import RandomizedSearchCV\n",
    "\n",
    "rf = RandomForestClassifier(random_state = 42)\n",
    "\n",
    "param_grid_rf = {\n",
    "    'bootstrap': [True, False],\n",
    "    'max_depth': [10,  25,  50, 75, 100, None],\n",
    "    'max_features': ['auto', 'sqrt'],\n",
    "    'min_samples_leaf': [1, 2, 4],\n",
    "    'min_samples_split': [2, 5, 10],\n",
    "    'n_estimators': [200, 500, 1000, 1250, 1500]\n",
    "}\n",
    "\n",
    "rf_clf = RandomizedSearchCV(rf, param_grid_rf, scoring='accuracy', n_jobs = -1, verbose=3, n_iter=30, cv=3)\n",
    "rf_clf.fit(X_train, y_train)"
   ]
  },
  {
   "cell_type": "code",
   "execution_count": 60,
   "metadata": {
    "colab": {
     "base_uri": "https://localhost:8080/"
    },
    "id": "n09xHBIFVKIz",
    "outputId": "ef3752db-d36e-4d62-fb3d-ba8fe187816b"
   },
   "outputs": [
    {
     "name": "stdout",
     "output_type": "stream",
     "text": [
      "Mejore parametro en el train set: \n",
      "\n",
      "{'n_estimators': 200, 'min_samples_split': 2, 'min_samples_leaf': 1, 'max_features': 'sqrt', 'max_depth': 75, 'bootstrap': False}\n",
      "\n",
      "Resultado obtenido con mejores parametros en el train set: 0.90\n"
     ]
    }
   ],
   "source": [
    "print(\"Mejore parametro en el train set: \\n\")\n",
    "print(rf_clf.best_params_)\n",
    "print(\"\\nResultado obtenido con mejores parametros en el train set: {:.2f}\".format(max(rf_clf.cv_results_['mean_test_score'])))"
   ]
  },
  {
   "cell_type": "code",
   "execution_count": 62,
   "metadata": {
    "id": "GwkHCSutWLHM"
   },
   "outputs": [],
   "source": [
    "# Probemos ahora en el conjunto de test:\n",
    "# Si BINARY_CLF entonces solo habra dos clases: pedestrian y no pedestrian. \n",
    "# De otra forma, habra 3: pedestrian, chair, car_side.\n",
    "\n",
    "y_ped_test = np.zeros(len(ped_test))\n",
    "# Para el conjunto de test se usaran los dos mejores modelos y se hara clasificacion \n",
    "# multiclase para observar la matriz de confusion:\n",
    "y_chair_test = np.ones(len(chair_test))\n",
    "y_car_side_test = 2 * np.ones(len(car_side_test))\n",
    "\n",
    "X_test_temp = np.asarray(ped_test + chair_test + car_side_test)\n",
    "y_test = np.concatenate([y_ped_test, y_chair_test, y_car_side_test])\n",
    "\n",
    "from sklearn.utils import shuffle\n",
    "X_test_temp,  y_test = shuffle(X_test_temp,  y_test, random_state=0)"
   ]
  },
  {
   "cell_type": "code",
   "execution_count": 63,
   "metadata": {
    "id": "cdNNg7zGW464"
   },
   "outputs": [],
   "source": [
    "# aplicamos hog a cada X_train:\n",
    "X_test = []\n",
    "for x in X_test_temp:\n",
    "  gradx, grady = grads(x)\n",
    "  mag, ang = get_dir_vecs_cv2(gradx, grady)\n",
    "  temp = hog_norm(get_hog(mag, ang))\n",
    "  X_test.append(np.float32(temp))"
   ]
  },
  {
   "cell_type": "code",
   "execution_count": 67,
   "metadata": {
    "colab": {
     "base_uri": "https://localhost:8080/",
     "height": 707
    },
    "id": "tzRFd_4UXiro",
    "outputId": "fcb86cde-cacd-4dfc-ad75-b250d3bf0f83"
   },
   "outputs": [
    {
     "name": "stdout",
     "output_type": "stream",
     "text": [
      "Confusion matrix, SVC\n",
      "[[56  0  0]\n",
      " [ 3 16  0]\n",
      " [ 1  0 36]]\n",
      "Confusion matrix, RF\n",
      "[[56  0  0]\n",
      " [ 2 13  4]\n",
      " [ 6  1 30]]\n"
     ]
    },
    {
     "data": {
      "image/png": "[encoded data removed]",
      "text/plain": [
       "<Figure size 432x288 with 2 Axes>"
      ]
     },
     "metadata": {
      "needs_background": "light",
      "tags": []
     },
     "output_type": "display_data"
    },
    {
     "data": {
      "image/png": "[encoded data removed]",
      "text/plain": [
       "<Figure size 432x288 with 2 Axes>"
      ]
     },
     "metadata": {
      "needs_background": "light",
      "tags": []
     },
     "output_type": "display_data"
    }
   ],
   "source": [
    "from sklearn.metrics import plot_confusion_matrix\n",
    "import matplotlib.pyplot as plt\n",
    "\n",
    "options = [(\"Confusion matrix, SVC\", clf),\n",
    "                  (\"Confusion matrix, RF\", rf_clf)]\n",
    "for title, clf in options:\n",
    "    disp = plot_confusion_matrix(clf, X_test, y_test,\n",
    "                                 display_labels=['Pedestrian', 'Chair', 'Car Side'],\n",
    "                                 cmap=plt.cm.Blues,\n",
    "                                 normalize=None)\n",
    "    disp.ax_.set_title(title)\n",
    "\n",
    "    print(title)\n",
    "    print(disp.confusion_matrix)\n",
    "\n",
    "plt.show()"
   ]
  },
  {
   "cell_type": "markdown",
   "metadata": {
    "id": "5OIjhqgBcPt8"
   },
   "source": [
    "- Se destaca en primer lugar que el modelo SVC obtiene resultados considerablemente mejores tanto en `accuracy` como al observar la matriz de confusion. \n",
    "\n",
    "- Una opcion a considerar para mejorar los resultados corresponde a incluir mas parametros en la busqueda de grilla.\n",
    "\n",
    "- Por otro lado, se podria considerar cambiar la configuracion en la cual se calculan las caracteristicas HOG: aumentar el tamano de la celda (en lugar de 8x8, aumentarlo a 10x10 por ejemplo) y hacer que se traslapen al extraer informacion. De esta forma el vector final tendria mas componentes. \n",
    "\n",
    "- Existe otra opcion que es generando 'data augmentation', esto es, rotar aleatoriamente la imagen, hacer recortes aleatorios y otros para que el modelo generalice mejor y sea menos variante ante cambios pequenos en las imagenes. \n",
    "\n"
   ]
  },
  {
   "cell_type": "markdown",
   "metadata": {
    "id": "XSEQtyTEefYQ"
   },
   "source": [
    "# Conclusion.\n",
    "- En la tarea se comprendio la utilidad de elemntos implementados antes como los gradientes en `x` e `y`. \n",
    "\n",
    "- Se comprendio sobre como implementar el extractor de caracteristicas sobel y sobre la complegidad que este tiene (en adelante, se usara la funcion de `cv2`). \n",
    "\n",
    "- Se aprendio que hacer una buena extraccion de caracteristicas puede ser tanto o mas importante que el modelo en si mismo: con un modelo simple y pocas imagenes de entrenamiento se pudo obtener un $98\\%$ de _accuracy_ en clasificacion multiclase. "
   ]
  },
  {
   "cell_type": "code",
   "execution_count": null,
   "metadata": {
    "id": "CAuCgwehfbd_"
   },
   "outputs": [],
   "source": []
  }
 ],
 "metadata": {
  "colab": {
   "authorship_tag": "ABX9TyOtQfECGGXlEjOrk1xCikZw",
   "collapsed_sections": [],
   "include_colab_link": true,
   "name": "Tarea4.ipynb",
   "provenance": []
  },
  "kernelspec": {
   "display_name": "Python 3",
   "language": "python",
   "name": "python3"
  },
  "language_info": {
   "codemirror_mode": {
    "name": "ipython",
    "version": 3
   },
   "file_extension": ".py",
   "mimetype": "text/x-python",
   "name": "python",
   "nbconvert_exporter": "python",
   "pygments_lexer": "ipython3",
   "version": "3.7.7"
  }
 },
 "nbformat": 4,
 "nbformat_minor": 1
}
