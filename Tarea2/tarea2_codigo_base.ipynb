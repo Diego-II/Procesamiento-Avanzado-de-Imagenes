{
  "nbformat": 4,
  "nbformat_minor": 0,
  "metadata": {
    "colab": {
      "name": "alumnos_test_tarea2_alineamiento_v03.ipynb",
      "provenance": [],
      "collapsed_sections": []
    },
    "kernelspec": {
      "display_name": "Python 3",
      "language": "python",
      "name": "python3"
    },
    "language_info": {
      "codemirror_mode": {
        "name": "ipython",
        "version": 3
      },
      "file_extension": ".py",
      "mimetype": "text/x-python",
      "name": "python",
      "nbconvert_exporter": "python",
      "pygments_lexer": "ipython3",
      "version": "3.8.3"
    }
  },
  "cells": [
    {
      "cell_type": "code",
      "metadata": {
        "id": "pT3LXXRT0Pkp"
      },
      "source": [
        "import os.path \n",
        "try:\n",
        "  import google.colab as colab\n",
        "  IN_COLAB = True\n",
        "except:\n",
        "  IN_COLAB = False\n",
        "\n",
        "# Cargamos los datos solo la primera vez que nos conectamos a la \"runtime\":\n",
        "if IN_COLAB:\n",
        "  if os.path.exists('/content/imagenes_tarea_2.zip'):\n",
        "    print(\"Datos ya descargados\")\n",
        "  else:\n",
        "    colab.files.upload()\n",
        "    !unzip /content/imagenes_tarea_2"
      ],
      "execution_count": null,
      "outputs": []
    },
    {
      "cell_type": "code",
      "metadata": {
        "id": "NtVkZhY03X2F"
      },
      "source": [
        "!ls"
      ],
      "execution_count": null,
      "outputs": []
    },
    {
      "cell_type": "code",
      "metadata": {
        "id": "7pPqDDUVtZGW"
      },
      "source": [
        "!pip install ipython-autotime"
      ],
      "execution_count": null,
      "outputs": []
    },
    {
      "cell_type": "code",
      "metadata": {
        "id": "eiCMzDPVtZfD"
      },
      "source": [
        "%load_ext autotime"
      ],
      "execution_count": null,
      "outputs": []
    },
    {
      "cell_type": "code",
      "metadata": {
        "id": "lqvGhq6etZyz"
      },
      "source": [
        "!pip install -U opencv-python"
      ],
      "execution_count": null,
      "outputs": []
    },
    {
      "cell_type": "code",
      "metadata": {
        "id": "UrLV3mcqt8YU"
      },
      "source": [
        ""
      ],
      "execution_count": null,
      "outputs": []
    },
    {
      "cell_type": "markdown",
      "metadata": {
        "id": "i7N_eRLLtfnz"
      },
      "source": [
        "**Parte 2**"
      ]
    },
    {
      "cell_type": "code",
      "metadata": {
        "id": "YdrE4kHQdUCE"
      },
      "source": [
        "%load_ext Cython"
      ],
      "execution_count": null,
      "outputs": []
    },
    {
      "cell_type": "code",
      "metadata": {
        "id": "ar1hZA5IdUWX"
      },
      "source": [
        "%%cython\n",
        "import cython\n",
        "import numpy as np\n",
        "cimport numpy as np\n",
        "\n",
        "cpdef float[:, :] gradx(float [:, :] input):\n",
        "  # POR HACER: calcular el gradiente en x\n",
        "  cdef np.ndarray output=np.zeros([input.shape[0], input.shape[1]], dtype = np.float32)\n",
        "\n",
        "  return output"
      ],
      "execution_count": null,
      "outputs": []
    },
    {
      "cell_type": "code",
      "metadata": {
        "id": "CwWh_0CKdh5Q"
      },
      "source": [
        "%%cython\n",
        "import cython\n",
        "import numpy as np\n",
        "cimport numpy as np\n",
        "\n",
        "cpdef float[:, :] grady(float [:, :] input):\n",
        "  # POR HACER: Calcular el gradiente en y\n",
        "  cdef np.ndarray output=np.zeros([input.shape[0], input.shape[1]], dtype = np.float32)\n",
        "\n",
        "  return output"
      ],
      "execution_count": null,
      "outputs": []
    },
    {
      "cell_type": "code",
      "metadata": {
        "id": "BjkuCpgxdkcv"
      },
      "source": [
        "%%cython\n",
        "import cython\n",
        "import numpy as np\n",
        "cimport numpy as np\n",
        "\n",
        "cpdef float[:, :] product(float [:, :] input1, float [:, :] input2):\n",
        "  # POR HACER: generar una matriz que contenga el producto entre input1 e input2, pixel a pixel\n",
        "\n",
        "  cdef np.ndarray output=np.zeros([input1.shape[0], input1.shape[1]], dtype = np.float32)\n",
        "  return output"
      ],
      "execution_count": null,
      "outputs": []
    },
    {
      "cell_type": "code",
      "metadata": {
        "id": "C9Tj7nj9dm5_"
      },
      "source": [
        "%%cython\n",
        "import cython\n",
        "import numpy as np\n",
        "cimport numpy as np\n",
        "\n",
        "cpdef float[:, :] harris(float [:, :] mxx, float [:, :] mxy, float [:, :] myy):\n",
        "  # POR HACER: Calcular el filtro de Harris a partir de (mxx, mxy, myy)\n",
        "  cdef np.ndarray output=np.zeros([mxx.shape[0], mxx.shape[1]], dtype = np.float32)\n",
        "\n",
        "  return output"
      ],
      "execution_count": null,
      "outputs": []
    },
    {
      "cell_type": "code",
      "metadata": {
        "id": "dQJD9CKSdvKv"
      },
      "source": [
        "%%cython\n",
        "import cython\n",
        "import numpy as np\n",
        "cimport numpy as np\n",
        "from libc.math cimport sqrt\n",
        "\n",
        "cpdef float[:, :] shiTomasi(float [:, :] mxx, float [:, :] mxy, float [:, :] myy):\n",
        "  # POR HACER: Calcular el filtro de Shi-Tomasi a partir de (mxx, mxy, myy)\n",
        "  cdef np.ndarray output=np.zeros([mxx.shape[0], mxx.shape[1]], dtype = np.float32)\n",
        "\n",
        "  return output"
      ],
      "execution_count": null,
      "outputs": []
    },
    {
      "cell_type": "code",
      "metadata": {
        "id": "O9MbefrUdwJ_"
      },
      "source": [
        "%%cython\n",
        "import cython\n",
        "import numpy as np\n",
        "cimport numpy as np\n",
        "\n",
        "cpdef float[:, :] getMaxima(float [:, :] h, float val):\n",
        "  # POR HACER: Crear una imagen, inicialmente llena con ceros.\n",
        "  # Luego, hacer 1 los valores en los cuales:\n",
        "  #   h[r,c] sea un maximo local respecto a sus 8 vecinos\n",
        "  #   h[r,c] supera el valor val\n",
        "  cdef np.ndarray output=np.zeros([h.shape[0], h.shape[1]], dtype = np.float32)\n",
        "\n",
        "  return output"
      ],
      "execution_count": null,
      "outputs": []
    },
    {
      "cell_type": "code",
      "metadata": {
        "id": "sNtu4clsdzSA"
      },
      "source": [
        "# Esta funcion genera keypoints a partir de una imagen de entrada\n",
        "# La imagen de entrada puede ser la salida del filtro de Harris o el de Shi-Tomasi\n",
        "# No es necesario modificar esta funcion\n",
        "def getKeyPoints(input):\n",
        "  output = []\n",
        "  input_rows = input.shape[0]\n",
        "  input_cols = input.shape[1]\n",
        "  for r in range(input_rows):\n",
        "    for c in range(input_cols):\n",
        "      if input[r,c] > 0:\n",
        "        kp = cv2.KeyPoint()\n",
        "        kp.pt = (c,r)\n",
        "        kp.size = 10\n",
        "        kp.angle = 0\n",
        "        output.append(kp)\n",
        "  return output"
      ],
      "execution_count": null,
      "outputs": []
    },
    {
      "cell_type": "code",
      "metadata": {
        "id": "C2LQVYlMd16f"
      },
      "source": [
        "def harrisDetector(input, val):\n",
        "  input = np.float32( input )\n",
        "  # Por hacer: calcular el filtro de Harris\n",
        "  # Hay que realizar los siguientes pasos:\n",
        "  # 1) Suavizar la imagen de entrada con cv.GaussianBlur( )\n",
        "  # 2) Calcular gradientes imx e imy (usando funciones de cython definidas arriba)\n",
        "  # 3) Calcular momentos usando la funcion product( )\n",
        "  #    imxx = imx*imx (pixel a pixel)\n",
        "  #    imxy = imx*imy (pixel a pixel)\n",
        "  #    imyy = imy*imy (pixel a pixel)\n",
        "  # 4) Suavizar momentos imxx, imxy, imyy con cv.GaussianBlur( )\n",
        "  #    => Puede requerir transformar las imagenes de Cython a Python usando np.float32( )\n",
        "  # 5) Aplicar el filtro de Harris (usando funcion de Cython definida arriba)\n",
        "  # 6) Encontrar puntos maximos usando getMaxima( )\n",
        "  # 7) Generar el listado de puntos usando getKeyPoints( )\n",
        "  # 8) Devolver los puntos e interes y la imagen filtrada\n",
        "\n",
        "  h = input    # Esta linea debe ser eliminada\n",
        "  points = []  # Esta linea debe ser eliminada\n",
        "  return points, np.float32(h)"
      ],
      "execution_count": null,
      "outputs": []
    },
    {
      "cell_type": "code",
      "metadata": {
        "id": "XgySLv1Td4dP"
      },
      "source": [
        "def shiTomasiDetector(input, val):\n",
        "  input = np.float32( input )\n",
        "  # Por hacer: calcular el filtro de Shi-Tomasi\n",
        "  # El procedimiento es similar al de la funcion de arriba\n",
        "  # Sin embargo, se debe llamar al filtro de Shi-Tomasi en vez del de Harris\n",
        "\n",
        "  h = input    # Esta linea debe ser eliminada\n",
        "  points = []  # Esta linea debe ser eliminada\n",
        "  return points, np.float32(h)\n",
        "  return points, np.float32(h)"
      ],
      "execution_count": null,
      "outputs": []
    },
    {
      "cell_type": "code",
      "metadata": {
        "id": "K_AaLxd8dUnQ"
      },
      "source": [
        ""
      ],
      "execution_count": null,
      "outputs": []
    },
    {
      "cell_type": "code",
      "metadata": {
        "id": "YgOfvuZL0tg9"
      },
      "source": [
        "def do_rotate(img, angle):\n",
        "  h = img.shape[0]\n",
        "  w = img.shape[1]\n",
        "  cx = w // 2\n",
        "  cy = h // 2\n",
        "  m = cv2.getRotationMatrix2D((cx, cy), -angle, 1.0)\n",
        "  cosa = np.cos(angle * np.pi / 180.0)\n",
        "  sina = np.sin(angle * np.pi / 180.0)\n",
        "  nw = int((h * sina) + (w * cosa))\n",
        "  nh = int((h * cosa) + (w * sina))\n",
        "  m[0,2] += (nw / 2) - cx\n",
        "  m[1,2] += (nh / 2) - cy\n",
        "  return cv2.warpAffine(img, m, (nw, nh))"
      ],
      "execution_count": null,
      "outputs": []
    },
    {
      "cell_type": "code",
      "metadata": {
        "id": "8J6Xc4qitaOj"
      },
      "source": [
        "import numpy as np\n",
        "import cv2\n",
        "from google.colab.patches import cv2_imshow\n",
        "\n",
        "img1 = cv2.imread('uch006a.jpg',0)\n",
        "img2 = do_rotate(img1, 30)\n",
        "\n",
        "kp1, h1 = harrisDetector(img1, 3e7)\n",
        "kp2, h2 = harrisDetector(img2, 3e7)\n",
        "\n",
        "res1 = cv2.drawKeypoints(img1, kp1, img1, None, cv2.DRAW_MATCHES_FLAGS_DRAW_RICH_KEYPOINTS)\n",
        "res2 = cv2.drawKeypoints(img2, kp2, img2, None, cv2.DRAW_MATCHES_FLAGS_DRAW_RICH_KEYPOINTS)\n",
        "\n",
        "print('Resultados de filtro de Harris')\n",
        "cv2_imshow(h1 * 100 / np.max(np.max(h1)))\n",
        "cv2_imshow(h2 * 100 / np.max(np.max(h2)))\n",
        "print('Puntos de interes')\n",
        "cv2_imshow(res1)\n",
        "cv2_imshow(res2)\n"
      ],
      "execution_count": null,
      "outputs": []
    },
    {
      "cell_type": "code",
      "metadata": {
        "id": "4V01Rl5_tmu6"
      },
      "source": [
        ""
      ],
      "execution_count": null,
      "outputs": []
    },
    {
      "cell_type": "code",
      "metadata": {
        "id": "hrCVMwlgtnFL"
      },
      "source": [
        ""
      ],
      "execution_count": null,
      "outputs": []
    },
    {
      "cell_type": "markdown",
      "metadata": {
        "id": "a16E0v341-dk"
      },
      "source": [
        "**Parte 3**"
      ]
    },
    {
      "cell_type": "code",
      "metadata": {
        "id": "4MJrNIpD7onN"
      },
      "source": [
        "# Esta funcion ya esta lista, no debe ser modificada\n",
        "def filterMatches(matches):\n",
        "  # Apply ratio test\n",
        "  points1 = []\n",
        "  points2 = []\n",
        "  good = []\n",
        "\n",
        "  for m,n in matches:\n",
        "    if m.distance < 0.75*n.distance:  # 0.75\n",
        "      good.append([m])\n",
        "      points1.append(kp1[m.queryIdx].pt)\n",
        "      points2.append(kp2[m.trainIdx].pt)\n",
        "  return np.array(points1), np.array(points2), good"
      ],
      "execution_count": null,
      "outputs": []
    },
    {
      "cell_type": "code",
      "metadata": {
        "id": "fI4AyiAw18fc"
      },
      "source": [
        "import numpy as np\n",
        "import cv2\n",
        "from google.colab.patches import cv2_imshow\n",
        "\n",
        "img1 = cv2.imread('left2.jpg',0)\n",
        "img2 = cv2.imread('right2.jpg',0)\n",
        "\n",
        "detector = cv2.SIFT_create()\n",
        "\n",
        "(kp1, des1) = detector.detectAndCompute(img1,None)\n",
        "(kp2, des2) = detector.detectAndCompute(img2,None)\n",
        "\n",
        "# BFMatcher with default params\n",
        "bf = cv2.BFMatcher()\n",
        "matches = bf.knnMatch(des1,des2, k=2)\n",
        "\n",
        "points1, points2, good = filterMatches(matches)\n",
        "\n",
        "img_match = cv2.drawMatchesKnn(img1, kp1, img2, kp2,\n",
        "                                good, None, flags=cv2.DrawMatchesFlags_NOT_DRAW_SINGLE_POINTS)\n",
        "cv2_imshow(img_match)\n",
        "\n",
        "# El objetivo del codigo que sigue es alinear dos imagenes\n",
        "\n",
        "# 1) Por hacer: calcular la homografia usando cv2.findHomography( ) con parametro cv2.RANSAC\n",
        "\n",
        "# 2) Por hacer: transformar la imagen img2 usando la funcion warpPerspective( ) y la homografia\n",
        "#   La imagen de salida debe tener un tamano suficiente\n",
        "#   Se recomienda que tenga el doble del ancho de la imagen de entrada\n",
        "\n",
        "# 3) Por hacer: copiar la imagen img1 a la imagen resultante del paso anterior (se obtiene la imagen fusionada)\n",
        "\n",
        "# 4) Por hacer: mostrar la imagen fusionada"
      ],
      "execution_count": null,
      "outputs": []
    },
    {
      "cell_type": "code",
      "metadata": {
        "id": "CsQZ-1dbtnYk"
      },
      "source": [
        ""
      ],
      "execution_count": null,
      "outputs": []
    },
    {
      "cell_type": "code",
      "metadata": {
        "id": "cb-pGbBrtnrl"
      },
      "source": [
        ""
      ],
      "execution_count": null,
      "outputs": []
    },
    {
      "cell_type": "code",
      "metadata": {
        "id": "LPOwJgvZtoIE"
      },
      "source": [
        ""
      ],
      "execution_count": null,
      "outputs": []
    },
    {
      "cell_type": "code",
      "metadata": {
        "id": "oNcn7HfbD575"
      },
      "source": [
        ""
      ],
      "execution_count": null,
      "outputs": []
    }
  ]
}