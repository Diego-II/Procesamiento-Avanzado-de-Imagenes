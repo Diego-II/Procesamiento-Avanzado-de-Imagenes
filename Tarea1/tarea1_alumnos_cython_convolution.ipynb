{
 "cells": [
  {
   "cell_type": "code",
   "execution_count": null,
   "metadata": {
    "colab": {
     "base_uri": "https://localhost:8080/",
     "height": 35
    },
    "colab_type": "code",
    "id": "xzFcQovNkEKS",
    "outputId": "d09992f3-d86b-40e8-858c-3fcdedd38409"
   },
   "outputs": [],
   "source": [
    "# El objetivo de esta tarea es:\n",
    "# 1) Implementar convolucion (usando cython)\n",
    "# 2) Implementar piramides de Gauss y Laplace\n",
    "# 3) Implementar reconstruccion de una imagen a partir de las piramides\n",
    "# 4) Graficar las piramides\n",
    "#\n",
    "# Nota: los arreglos (matrices) creados deben ser de tipo np.float32"
   ]
  },
  {
   "cell_type": "code",
   "execution_count": null,
   "metadata": {
    "colab": {
     "base_uri": "https://localhost:8080/",
     "height": 73,
     "resources": {
      "http://localhost:8080/nbextensions/google.colab/files.js": {
       "data": "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",
       "headers": [
        [
         "content-type",
         "application/javascript"
        ]
       ],
       "ok": true,
       "status": 200,
       "status_text": "OK"
      }
     }
    },
    "colab_type": "code",
    "id": "QcXmdSkZrrA_",
    "outputId": "a97be0cb-fb26-4dc5-a0a0-d893e20f6aa6"
   },
   "outputs": [],
   "source": [
    "# Si se usa colaboratory, esta linea permite subir imagenes a la carpeta del notebook\n",
    "from google.colab import files\n",
    "uploaded = files.upload()"
   ]
  },
  {
   "cell_type": "code",
   "execution_count": null,
   "metadata": {
    "colab": {
     "base_uri": "https://localhost:8080/",
     "height": 53
    },
    "colab_type": "code",
    "id": "e0HWZOyG1k5W",
    "outputId": "54d1b331-7e01-461f-ae02-5ff1fc979384"
   },
   "outputs": [],
   "source": [
    "# Mostrar archivos en la carpeta del notebook\n",
    "!ls"
   ]
  },
  {
   "cell_type": "code",
   "execution_count": null,
   "metadata": {
    "colab": {
     "base_uri": "https://localhost:8080/",
     "height": 181
    },
    "colab_type": "code",
    "id": "pD1hFdhpyCEu",
    "outputId": "ac00fe0a-b2ad-4f1a-e35f-f1fa45ea6c06"
   },
   "outputs": [],
   "source": [
    "# Para medir tiempo de ejecucion\n",
    "!pip install ipython-autotime"
   ]
  },
  {
   "cell_type": "code",
   "execution_count": null,
   "metadata": {
    "colab": {
     "base_uri": "https://localhost:8080/",
     "height": 108
    },
    "colab_type": "code",
    "id": "01WGwfaIl_OK",
    "outputId": "608ceeb8-1b4b-427e-9411-31fdfdabce7a"
   },
   "outputs": [],
   "source": [
    "# Extensiones\n",
    "%load_ext Cython\n",
    "%load_ext autotime"
   ]
  },
  {
   "cell_type": "code",
   "execution_count": null,
   "metadata": {
    "colab": {
     "base_uri": "https://localhost:8080/",
     "height": 35
    },
    "colab_type": "code",
    "id": "ULPP-ZYnlXoE",
    "outputId": "e16757ad-dd49-4a4f-c8fd-f59fbc040181"
   },
   "outputs": [],
   "source": [
    "# Paquetes a ser usados\n",
    "import numpy as np\n",
    "import cv2\n",
    "import cython\n",
    "import numpy as np\n",
    "import math\n",
    "# Este paquete solo se debe usar si se usa colaboratory\n",
    "from google.colab.patches import cv2_imshow"
   ]
  },
  {
   "cell_type": "code",
   "execution_count": null,
   "metadata": {
    "colab": {
     "base_uri": "https://localhost:8080/",
     "height": 35
    },
    "colab_type": "code",
    "id": "pxVU-GW8lr-n",
    "outputId": "06383478-3638-4737-c01e-686da56f20c0"
   },
   "outputs": [],
   "source": [
    "%%cython\n",
    "import cython\n",
    "import numpy as np\n",
    "cimport numpy as np\n",
    "\n",
    "# La convolucion debe ser implementada usando cython (solo esta funcion en cython)\n",
    "#@cython.boundscheck(False)\n",
    "cpdef float[:, :] convolution_cython(float [:, :] input, float [:, :] mask):\n",
    "  cdef int r, c, rows, cols\n",
    "  cdef float sum\n",
    "  cdef np.ndarray output=np.zeros(input.shape, dtype = np.float32)\n",
    "\n",
    "  # tamano de la imagen\n",
    "  rows = input.shape[0]\n",
    "  cols = input.shape[1]\n",
    "\n",
    "  sum = 0\n",
    "\n",
    "  # Por hacer: implementar convolucion entre \"input\" y \"mask\"\n",
    "  for r in range(rows):\n",
    "    for c in range(cols):\n",
    "      sum = sum + input[r,c]\n",
    "      output[r, c] = input[r,c]\n",
    "  return output\n"
   ]
  },
  {
   "cell_type": "code",
   "execution_count": null,
   "metadata": {
    "colab": {
     "base_uri": "https://localhost:8080/",
     "height": 35
    },
    "colab_type": "code",
    "id": "vqjWMFbbNUjR",
    "outputId": "b89e17cb-a191-45da-ba42-ac2e1058c1be"
   },
   "outputs": [],
   "source": [
    "def compute_gauss_horiz(sigma, width):\n",
    "\tmask = np.zeros((1, width), np.float32)\n",
    "\t# Por hacer: implementar calculo de mascara gaussiana horizontal pixel a pixel\n",
    "\t# Se debe normalizar tras calcularla para que las sumas de los pixeles sea igual a 1\n",
    "\treturn mask\n"
   ]
  },
  {
   "cell_type": "code",
   "execution_count": null,
   "metadata": {
    "colab": {
     "base_uri": "https://localhost:8080/",
     "height": 35
    },
    "colab_type": "code",
    "id": "AQ5gdkI3NU2h",
    "outputId": "b3359b38-7634-4408-ba08-49922f052423"
   },
   "outputs": [],
   "source": [
    "def compute_gauss_vert(sigma, height):\n",
    "\tmask = np.zeros((height, 1), np.float32)\n",
    "\t# Por hacer: implementar calculo de mascara gaussiana vertical pixel a pixel\n",
    "\t# Se debe normalizar tras calcularla para que las sumas de los pixeles sea igual a 1\n",
    "\treturn mask\n"
   ]
  },
  {
   "cell_type": "code",
   "execution_count": null,
   "metadata": {
    "colab": {
     "base_uri": "https://localhost:8080/",
     "height": 35
    },
    "colab_type": "code",
    "id": "iTxlfKVpNVG4",
    "outputId": "a8e5f9dc-ab96-4fb9-897f-51131c5a0dba"
   },
   "outputs": [],
   "source": [
    "def do_blur(input, sigma, height):\n",
    "\t# Por hacer:\n",
    "\t# 1) Calcular mascara gaussiana horizontal con parametros sigma y height\n",
    "\t# 2) Calcular mascara gaussiana vertical con parametros sigma y height\n",
    "\t# 3) Calcular convolucion entre la imagen de entrada \"input\" y la mascara horizontal\n",
    "\t# 4) Calcular convolucion entre la imagen resultante y la mascara vertical\n",
    "\tresult = np.copy(input) # Esta linea se debe eliminar\n",
    "\treturn result\n"
   ]
  },
  {
   "cell_type": "code",
   "execution_count": null,
   "metadata": {
    "colab": {
     "base_uri": "https://localhost:8080/",
     "height": 35
    },
    "colab_type": "code",
    "id": "jTGc0xNntpVY",
    "outputId": "f74cc783-a4e6-4264-9cf5-5240d357780c"
   },
   "outputs": [],
   "source": [
    "def subsample(input):\n",
    "\t# por hacer: implementar submuestreo pixel a pixel\n",
    "\tresult = np.copy(input) # Esta linea se debe eliminar\n",
    "\treturn result"
   ]
  },
  {
   "cell_type": "code",
   "execution_count": null,
   "metadata": {
    "colab": {
     "base_uri": "https://localhost:8080/",
     "height": 35
    },
    "colab_type": "code",
    "id": "J9UAYYUYujRu",
    "outputId": "d0d1398f-032c-4962-d249-88e2b4cdf253"
   },
   "outputs": [],
   "source": [
    "def compute_gauss_pyramid(input, nlevels):  \n",
    "  gausspyramid = []\n",
    "  current = np.copy(input)\n",
    "  gausspyramid.append(current)\n",
    "  for i in range(1,nlevels):\n",
    "    # Por hacer:\n",
    "    # 1) Aplicar do_blur a la imagen gausspyramid[i-1], con sigma 2.0 y ancho 7\n",
    "    # 2) Submuestrear la imagen resultante usando subsample y guardando el resultado en current\n",
    "    gausspyramid.append(current)\n",
    "  return gausspyramid\n",
    "\n"
   ]
  },
  {
   "cell_type": "code",
   "execution_count": null,
   "metadata": {
    "colab": {
     "base_uri": "https://localhost:8080/",
     "height": 35
    },
    "colab_type": "code",
    "id": "PGLO8TZOvbu1",
    "outputId": "a1b4fc41-6835-49b9-8325-97f4ff41dc5f"
   },
   "outputs": [],
   "source": [
    "def show_gauss_pyramid(pyramid):\n",
    "  # Por hacer: mostrar las imagenes de la piramide de gauss\n",
    "  # Se recomienda usar cv2_imshow( ) para mostrar las imagenes\n",
    "  pass\n"
   ]
  },
  {
   "cell_type": "code",
   "execution_count": null,
   "metadata": {
    "colab": {
     "base_uri": "https://localhost:8080/",
     "height": 35
    },
    "colab_type": "code",
    "id": "z9nY1KZAvcMG",
    "outputId": "d208cac3-8003-4386-f598-ceb77dd8e33a"
   },
   "outputs": [],
   "source": [
    "def subtract(input1, input2):\n",
    "  # Por hacer: calcular la resta entre input1 e input2, pixel a pixel\n",
    "  output = np.copy(input1) # Esta linea se debe eliminar\n",
    "  return output"
   ]
  },
  {
   "cell_type": "code",
   "execution_count": null,
   "metadata": {
    "colab": {
     "base_uri": "https://localhost:8080/",
     "height": 35
    },
    "colab_type": "code",
    "id": "0pusvsgHwlou",
    "outputId": "2a3740ef-bd9e-47fe-d6c2-90b9ff0eefd4"
   },
   "outputs": [],
   "source": [
    "def add(input1, input2):\n",
    "  # Por hacer: calcular la resta entre input1 e input2, pixel a pixel\n",
    "  output = np.copy(input1) # Esta linea se debe eliminar\n",
    "  return output"
   ]
  },
  {
   "cell_type": "code",
   "execution_count": null,
   "metadata": {
    "colab": {
     "base_uri": "https://localhost:8080/",
     "height": 35
    },
    "colab_type": "code",
    "id": "lfcgmYE5wq9d",
    "outputId": "a7c4e6d9-4d1b-483b-cea4-5872902d67e7"
   },
   "outputs": [],
   "source": [
    "def scale_abs(input, factor):\n",
    "  # Por hacer: aplicar valor absoluto a los pixeles de la imagen pixel a pixel y luego escalar los pixeles usando el factor indicado\n",
    "  output = np.copy(input) # Esta linea se debe eliminar\n",
    "  return output"
   ]
  },
  {
   "cell_type": "code",
   "execution_count": null,
   "metadata": {
    "colab": {
     "base_uri": "https://localhost:8080/",
     "height": 35
    },
    "colab_type": "code",
    "id": "SwQvODNNxFJ3",
    "outputId": "58692fb3-81db-4e37-ca15-7440731d4d33"
   },
   "outputs": [],
   "source": [
    "def compute_laplace_pyramid(input, nlevels):\n",
    "  gausspyramid = []\n",
    "  laplacepyramid = []\n",
    "  current = np.copy(input)\n",
    "  gausspyramid.append(current)\n",
    "  for i in range(1, nlevels):\n",
    "    # Por hacer:\n",
    "    # 1) Aplicar do_blur( ) a la imagen gausspyramid[i-1], con sigma 2.0 y ancho 7\n",
    "    # 2) Guardar en laplacepiramid el resultado de restar gausspyramid[i - 1] y la imagen calculada en (1)\n",
    "    laplacepyramid.append(np.zeros(current.shape, np.float32))  # Esta linea se debe reemplazar por lo indicado en (2)\n",
    "    # 3) Submuestrear la imagen calculada en (1), guardar el resultado en current\n",
    "    gausspyramid.append(current)\n",
    "  laplacepyramid.append(current)  # Se agrega el ultimo piso de la piramide de Laplace\n",
    "  return laplacepyramid"
   ]
  },
  {
   "cell_type": "code",
   "execution_count": null,
   "metadata": {
    "colab": {
     "base_uri": "https://localhost:8080/",
     "height": 35
    },
    "colab_type": "code",
    "id": "uRGD7xMUyDiX",
    "outputId": "42a9e5cf-6d66-4702-bd7c-aae11b601472"
   },
   "outputs": [],
   "source": [
    "def show_laplace_pyramid(pyramid):\n",
    "  # Por hacer: mostrar las imagenes de la piramide de laplace:\n",
    "  #  Las imagenes deben ser escaladas antes de mostrarse usando scale_abs\n",
    "  #  Sin embargo, la ultima imagen del ultimo piso se muestra tal cual\n",
    "  # Se recomienda usar cv2_imshow( ) para mostrar las imagenes\n",
    "  pass\n"
   ]
  },
  {
   "cell_type": "code",
   "execution_count": null,
   "metadata": {
    "colab": {
     "base_uri": "https://localhost:8080/",
     "height": 35
    },
    "colab_type": "code",
    "id": "fz8_g3P-yajA",
    "outputId": "83540247-6505-459a-8184-eca62eff5911"
   },
   "outputs": [],
   "source": [
    "def upsample(input):\n",
    "  # Por hacer: implementar duplicacion del tamaño de imagen pixel a pixel\n",
    "  # Un pixel de la imagen de salida debe ser el promedio de los 4 pixeles mas cercanos de la imagen de entrada\n",
    "  # Se debe tener cuidado de que los indices no salgan fuera del tamano de la imagen\n",
    "  output = np.copy(input) #Esto se debe eliminar\n",
    "  return output\n"
   ]
  },
  {
   "cell_type": "code",
   "execution_count": null,
   "metadata": {
    "colab": {
     "base_uri": "https://localhost:8080/",
     "height": 35
    },
    "colab_type": "code",
    "id": "szWcyqzpyaxG",
    "outputId": "05a7f145-d928-4d36-be6b-a1602dee309f"
   },
   "outputs": [],
   "source": [
    "def reconstruct(laplacepyramid):\n",
    "  output = np.copy( laplacepyramid[len(laplacepyramid)-1] )\n",
    "  for i in range(1, len(laplacepyramid)):\n",
    "    lev = int(len(laplacepyramid)) - i - 1\n",
    "    # Por hacer: repetir estos dos pasos:\n",
    "    # (1) Duplicar tamano output usando upsample( )\n",
    "    # (2) Sumar resultado de (1) y laplacepyramid[lev] usando add( ), almacenar en output\n",
    "  return output"
   ]
  },
  {
   "cell_type": "code",
   "execution_count": null,
   "metadata": {
    "colab": {
     "base_uri": "https://localhost:8080/",
     "height": 53
    },
    "colab_type": "code",
    "id": "1PW3w0jQJZI7",
    "outputId": "18910bec-46eb-4bf5-d89c-592c544dcd34"
   },
   "outputs": [],
   "source": [
    "ls"
   ]
  },
  {
   "cell_type": "code",
   "execution_count": null,
   "metadata": {
    "colab": {
     "base_uri": "https://localhost:8080/",
     "height": 602
    },
    "colab_type": "code",
    "id": "mkRcGefA0GA_",
    "outputId": "51075efd-9265-48ca-ba79-771bf60f5468"
   },
   "outputs": [],
   "source": [
    "#originalRGB = cv2.imread('frutas.png') #Leer imagen\n",
    "originalRGB = cv2.imread('madera.png') #Leer imagen\n",
    "#originalRGB = cv2.imread('poligonos.png') #Leer imagen\n",
    "#originalRGB = cv2.imread('techo.png') #Leer imagen\n",
    "\n",
    "if originalRGB is None:\n",
    "  assert False, 'Imagen no encontrada'\n",
    "\n",
    "if len(originalRGB.shape) == 3:\n",
    "  original = cv2.cvtColor(originalRGB, cv2.COLOR_BGR2GRAY)\n",
    "else:\n",
    "  original = originalRGB\n",
    "\n",
    "input = np.float32( original )\n",
    "\n",
    "print('Piramide de gauss:')\n",
    "gausspyramid = compute_gauss_pyramid(input, 5)\n",
    "show_gauss_pyramid(gausspyramid)\n",
    "\n",
    "print('Piramide de laplace:')\n",
    "laplacepyramid = compute_laplace_pyramid(input, 5)\n",
    "show_laplace_pyramid(laplacepyramid)\n",
    "\n",
    "print('reconstruida:')\n",
    "reconstr = reconstruct(laplacepyramid)\n",
    "cv2_imshow(reconstr)"
   ]
  },
  {
   "cell_type": "code",
   "execution_count": null,
   "metadata": {
    "colab": {},
    "colab_type": "code",
    "id": "rtOAsBzj1QiX"
   },
   "outputs": [],
   "source": []
  },
  {
   "cell_type": "code",
   "execution_count": null,
   "metadata": {
    "colab": {},
    "colab_type": "code",
    "id": "vHbX0q89nln-"
   },
   "outputs": [],
   "source": []
  },
  {
   "cell_type": "code",
   "execution_count": null,
   "metadata": {
    "colab": {},
    "colab_type": "code",
    "id": "_0dTURe8txZH"
   },
   "outputs": [],
   "source": []
  },
  {
   "cell_type": "code",
   "execution_count": null,
   "metadata": {
    "colab": {},
    "colab_type": "code",
    "id": "ZCk9JFaRuNTZ"
   },
   "outputs": [],
   "source": []
  }
 ],
 "metadata": {
  "colab": {
   "collapsed_sections": [],
   "name": "tarea1_alumnos_cython_convolution.ipynb",
   "provenance": []
  },
  "kernelspec": {
   "display_name": "Python 3",
   "language": "python",
   "name": "python3"
  },
  "language_info": {
   "codemirror_mode": {
    "name": "ipython",
    "version": 3
   },
   "file_extension": ".py",
   "mimetype": "text/x-python",
   "name": "python",
   "nbconvert_exporter": "python",
   "pygments_lexer": "ipython3",
   "version": "3.7.7"
  }
 },
 "nbformat": 4,
 "nbformat_minor": 1
}
