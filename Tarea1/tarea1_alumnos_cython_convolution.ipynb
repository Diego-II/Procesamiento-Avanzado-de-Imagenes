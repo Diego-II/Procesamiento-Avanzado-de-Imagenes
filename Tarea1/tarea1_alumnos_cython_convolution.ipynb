{
  "nbformat": 4,
  "nbformat_minor": 0,
  "metadata": {
    "colab": {
      "name": "tarea1_alumnos_cython_convolution.ipynb",
      "provenance": [],
      "collapsed_sections": []
    },
    "kernelspec": {
      "display_name": "Python 3",
      "language": "python",
      "name": "python3"
    },
    "language_info": {
      "codemirror_mode": {
        "name": "ipython",
        "version": 3
      },
      "file_extension": ".py",
      "mimetype": "text/x-python",
      "name": "python",
      "nbconvert_exporter": "python",
      "pygments_lexer": "ipython3",
      "version": "3.7.7"
    }
  },
  "cells": [
    {
      "cell_type": "code",
      "metadata": {
        "colab_type": "code",
        "id": "xzFcQovNkEKS",
        "colab": {}
      },
      "source": [
        "# El objetivo de esta tarea es:\n",
        "# 1) Implementar convolucion (usando cython)\n",
        "# 2) Implementar piramides de Gauss y Laplace\n",
        "# 3) Implementar reconstruccion de una imagen a partir de las piramides\n",
        "# 4) Graficar las piramides\n",
        "#\n",
        "# Nota: los arreglos (matrices) creados deben ser de tipo np.float32"
      ],
      "execution_count": null,
      "outputs": []
    },
    {
      "cell_type": "code",
      "metadata": {
        "colab_type": "code",
        "id": "QcXmdSkZrrA_",
        "colab": {}
      },
      "source": [
        "# Si se usa colaboratory, esta linea permite subir imagenes a la carpeta del notebook\n",
        "\n",
        "import os.path \n",
        "try:\n",
        "  import google.colab as colab\n",
        "  IN_COLAB = True\n",
        "except:\n",
        "  IN_COLAB = False\n",
        "\n",
        "# Cargamos los datos solo la primera vez que nos conectamos a la \"runtime\":\n",
        "if IN_COLAB:\n",
        "  if os.path.exists('/content/imagenes_tarea_1_el7008.zip'):\n",
        "    print(\"Datos ya descargados\")\n",
        "  else:\n",
        "    colab.files.upload()\n",
        "    !unzip /content/imagenes_tarea_1_el7008\n",
        "    !pip install gpustat"
      ],
      "execution_count": null,
      "outputs": []
    },
    {
      "cell_type": "code",
      "metadata": {
        "colab_type": "code",
        "id": "e0HWZOyG1k5W",
        "colab": {}
      },
      "source": [
        "# Mostrar archivos en la carpeta del notebook\n",
        "!ls"
      ],
      "execution_count": null,
      "outputs": []
    },
    {
      "cell_type": "code",
      "metadata": {
        "colab_type": "code",
        "id": "pD1hFdhpyCEu",
        "colab": {}
      },
      "source": [
        "# Para medir tiempo de ejecucion\n",
        "!pip install ipython-autotime"
      ],
      "execution_count": null,
      "outputs": []
    },
    {
      "cell_type": "code",
      "metadata": {
        "colab_type": "code",
        "id": "01WGwfaIl_OK",
        "colab": {}
      },
      "source": [
        "# Extensiones\n",
        "%load_ext Cython\n",
        "%load_ext autotime"
      ],
      "execution_count": null,
      "outputs": []
    },
    {
      "cell_type": "code",
      "metadata": {
        "colab_type": "code",
        "id": "ULPP-ZYnlXoE",
        "colab": {}
      },
      "source": [
        "# Paquetes a ser usados\n",
        "import numpy as np\n",
        "import cv2\n",
        "import cython\n",
        "import numpy as np\n",
        "import math\n",
        "# Este paquete solo se debe usar si se usa colaboratory\n",
        "from google.colab.patches import cv2_imshow"
      ],
      "execution_count": null,
      "outputs": []
    },
    {
      "cell_type": "code",
      "metadata": {
        "id": "vQAV_NAKaAZY",
        "colab_type": "code",
        "colab": {}
      },
      "source": [
        "1 // 2"
      ],
      "execution_count": null,
      "outputs": []
    },
    {
      "cell_type": "code",
      "metadata": {
        "colab_type": "code",
        "id": "pxVU-GW8lr-n",
        "colab": {}
      },
      "source": [
        "%%cython\n",
        "import cython\n",
        "import numpy as np\n",
        "cimport numpy as np\n",
        "\n",
        "# La convolucion debe ser implementada usando cython (solo esta funcion en cython)\n",
        "#@cython.boundscheck(False)\n",
        "cpdef float[:, :] convolution_cython(float [:, :] input, float [:, :] mask):\n",
        "  cdef int a, b, r, c, rows, cols, row_init, col_init, i, j,\n",
        "  cdef float sum\n",
        "  # Imagen de salida\n",
        "  cdef np.ndarray output=np.zeros([input.shape[0], input.shape[1]], dtype = np.float32)\n",
        "\n",
        "  # Posicion a partir de la cual se puede realizar convolucion: \n",
        "  # Ejemplo 1: Para un kernel de 3x3, es (1,1).\n",
        "  # Ejemplo 2: Para un kernel de \"a\" x \"b\" es (\"r\"//2, \"c\"//2)\n",
        "  a = mask.shape[0]\n",
        "  b = mask.shape[1]\n",
        "\n",
        "  row_init = a // 2\n",
        "  col_init = b // 2\n",
        "\n",
        "  # tamano de la imagen\n",
        "  rows = input.shape[0]\n",
        "  cols = input.shape[1]\n",
        "\n",
        "  sum = 0\n",
        "\n",
        "  # Recorremos la imagen input:\n",
        "  for r in range(row_init, rows - row_init):\n",
        "    for c in range(col_init, cols - col_init):\n",
        "      # Se recorre la mascara o kernel:\n",
        "      for i in range(a):\n",
        "        for j in range(b):\n",
        "          sum += mask[i,j] * input[r-i,c-j]\n",
        "      # Guardamos el resultado de la suma correspondiente en el arreglo output:\n",
        "      output[r, c] = sum\n",
        "      sum = 0\n",
        "  return output"
      ],
      "execution_count": null,
      "outputs": []
    },
    {
      "cell_type": "code",
      "metadata": {
        "id": "VghYBUi7tznm",
        "colab_type": "code",
        "colab": {}
      },
      "source": [
        "ls"
      ],
      "execution_count": null,
      "outputs": []
    },
    {
      "cell_type": "code",
      "metadata": {
        "id": "KOaT7EkFmg93",
        "colab_type": "code",
        "colab": {}
      },
      "source": [
        "# Prueba de la funcion convolution_cython:\n",
        "originalRGB = cv2.imread('techo.png') #Leer imagen\n",
        "\n",
        "\n",
        "if len(originalRGB.shape) == 3:\n",
        "  original = cv2.cvtColor(originalRGB, cv2.COLOR_BGR2GRAY)\n",
        "else:\n",
        "  original = originalRGB\n",
        "\n",
        "input = np.float32( original )\n",
        "cv2_imshow(input)\n",
        "# Convolucion: Prueba con kernel de deteccion de bordes\n",
        "#kernel = np.float32([[-1, -1, -1],[-1, 8, -1],[-1, -1, -1]])\n",
        "kernel = np.float32([[-1, 4, 4, -1]])\n",
        "output = convolution_cython(input,kernel)\n",
        "cv2_imshow( np.float32(output) )\n",
        "\n",
        "kernel2 = np.float32([[-1],[4],[-1]])\n",
        "output_final = convolution_cython(output, kernel2)\n",
        "cv2_imshow( np.float32(output_final) )"
      ],
      "execution_count": null,
      "outputs": []
    },
    {
      "cell_type": "markdown",
      "metadata": {
        "id": "hgjp5z9gfmZ0",
        "colab_type": "text"
      },
      "source": [
        "Formula utilizada para el calculo del Kernel 1D:\n",
        "\\begin{equation}\n",
        " G(x,\\sigma) \\: = \\: \\frac{1}{\\sigma \\sqrt{2 \\: \\pi}} \\exp(\\tfrac{-x^2}{2 \\sigma^2})\n",
        "\\end{equation}\n",
        "\n",
        "En base a la ecuacion, se calculo el valor para cada pixel del kernel. \n",
        "\n",
        "Finalmente, segun lo pedido en el enunciado se normaliza el kernel. "
      ]
    },
    {
      "cell_type": "code",
      "metadata": {
        "colab_type": "code",
        "id": "vqjWMFbbNUjR",
        "colab": {}
      },
      "source": [
        "def compute_gauss_horiz(sigma, width):\n",
        "\tmask = np.zeros([1, width], np.float32)\n",
        "\n",
        "\t\n",
        "\tcoef = 1 / (sigma * np.sqrt(2 * np.pi))\n",
        " \n",
        "\tfor i in range(width):\n",
        "\t\tmask[0][i] = coef * np.exp(- np.square(i - width//2) / (2 * sigma*sigma) )\n",
        "\t\t# Para debuggear\n",
        "\t\t#print((i - width//2))\n",
        "\t\n",
        "\t# normalizamos\n",
        "\treturn mask / mask.sum()\n"
      ],
      "execution_count": null,
      "outputs": []
    },
    {
      "cell_type": "code",
      "metadata": {
        "id": "xEsIsk0lZWpR",
        "colab_type": "code",
        "colab": {}
      },
      "source": [
        "# Compobemos funcionamiento y que efectivamente suma 1 el kernel:\n",
        "mask = compute_gauss_horiz(sigma = 1, width = 3)\n",
        "print(\"mask = \", mask)\n",
        "print(\"mask.sum() = \", mask.sum())"
      ],
      "execution_count": null,
      "outputs": []
    },
    {
      "cell_type": "code",
      "metadata": {
        "colab_type": "code",
        "id": "AQ5gdkI3NU2h",
        "colab": {}
      },
      "source": [
        "def compute_gauss_vert(sigma, height):\n",
        "\tmask = np.zeros((height, 1), np.float32)\n",
        "\t# no es necesario implementar nuevamente la exponencial, solo trasponer el resultado\n",
        "\t# de la funcion comute_gauss_horiz\n",
        "\thor_mask = compute_gauss_horiz(sigma = sigma, width = height)\n",
        "\tfor i in range(height):\n",
        "\t\tmask[i][0] = hor_mask[0][i]\n",
        "\treturn mask\n"
      ],
      "execution_count": null,
      "outputs": []
    },
    {
      "cell_type": "code",
      "metadata": {
        "id": "N4_ixzZwlY47",
        "colab_type": "code",
        "colab": {}
      },
      "source": [
        "# Comprobemos que funciona bien la funcion:\n",
        "mask_vert = compute_gauss_vert(1,3)\n",
        "print(\"mask = \\n\", mask_vert)\n",
        "print(\"mask.sum() = \", mask_vert.sum())"
      ],
      "execution_count": null,
      "outputs": []
    },
    {
      "cell_type": "code",
      "metadata": {
        "colab_type": "code",
        "id": "iTxlfKVpNVG4",
        "colab": {}
      },
      "source": [
        "def do_blur(input, sigma, height):\n",
        "\t# Obtenemos las mascaras:\n",
        "\thor_mask = compute_gauss_horiz(sigma, height)\n",
        "\tvert_mask = compute_gauss_vert(sigma, height)\n",
        "\t# Convolucion entre la imagen de entrada \"input\" y la mascara horizontal\n",
        "\toutput = np.float32(convolution_cython(input, hor_mask))\n",
        "\n",
        "\t# Calcular convolucion entre la imagen resultante y la mascara vertical\n",
        "\tresult = np.float32(convolution_cython(output, vert_mask) )\n",
        "\n",
        "\treturn result"
      ],
      "execution_count": null,
      "outputs": []
    },
    {
      "cell_type": "code",
      "metadata": {
        "id": "XTr3AZ3vorLF",
        "colab_type": "code",
        "colab": {}
      },
      "source": [
        "# Probemos funcionamiento:\n",
        "cv2_imshow(do_blur(input, 10, 10))"
      ],
      "execution_count": null,
      "outputs": []
    },
    {
      "cell_type": "code",
      "metadata": {
        "id": "yd-ZGk9wqwss",
        "colab_type": "code",
        "colab": {}
      },
      "source": [
        "512 // 2"
      ],
      "execution_count": null,
      "outputs": []
    },
    {
      "cell_type": "code",
      "metadata": {
        "colab_type": "code",
        "id": "jTGc0xNntpVY",
        "colab": {}
      },
      "source": [
        "def subsample(input):\n",
        "\tresult = np.zeros(shape = [input.shape[0] // 2, input.shape[1] // 2], dtype = np.float32)\n",
        "\t\n",
        "\tfor i in range(result.shape[0]):\n",
        "\t\tfor j in range(result.shape[1]):\n",
        "\t\t\tresult[i][j] = input[i*2][j*2]\n",
        "\t\t\t\n",
        "\treturn result"
      ],
      "execution_count": null,
      "outputs": []
    },
    {
      "cell_type": "code",
      "metadata": {
        "id": "OBI56KTZq55C",
        "colab_type": "code",
        "colab": {}
      },
      "source": [
        "# Prueba de la funcion subsample\n",
        "im_reduced = subsample(input)\n",
        "print(\"entrada.shape = \", input.shape)\n",
        "print(\"Salida.shape = \", im_reduced.shape)\n",
        "cv2_imshow(im_reduced)"
      ],
      "execution_count": null,
      "outputs": []
    },
    {
      "cell_type": "code",
      "metadata": {
        "colab_type": "code",
        "id": "J9UAYYUYujRu",
        "colab": {}
      },
      "source": [
        "def compute_gauss_pyramid(input, nlevels):  \n",
        "  gausspyramid = []\n",
        "  current = np.copy(input)\n",
        "  gausspyramid.append(current)\n",
        "  for i in range(1,nlevels):\n",
        "    current = subsample(do_blur(input = gausspyramid[i-1], sigma = 2, height = 7))\n",
        "    gausspyramid.append(current)\n",
        "  return gausspyramid"
      ],
      "execution_count": null,
      "outputs": []
    },
    {
      "cell_type": "code",
      "metadata": {
        "id": "XD-KtdR85JX2",
        "colab_type": "code",
        "colab": {}
      },
      "source": [
        "gp = compute_gauss_pyramid(input, 3)\n",
        "for im in gp:\n",
        "  cv2_imshow( im )"
      ],
      "execution_count": null,
      "outputs": []
    },
    {
      "cell_type": "code",
      "metadata": {
        "colab_type": "code",
        "id": "PGLO8TZOvbu1",
        "colab": {}
      },
      "source": [
        "def show_gauss_pyramid(pyramid):\n",
        "  for i, im in enumerate(pyramid):\n",
        "    lvl = i + 1\n",
        "    print(\"Imagen para nivel \", lvl)\n",
        "    cv2_imshow( im )"
      ],
      "execution_count": null,
      "outputs": []
    },
    {
      "cell_type": "code",
      "metadata": {
        "id": "rY_C-OkD5zKV",
        "colab_type": "code",
        "colab": {}
      },
      "source": [
        "show_gauss_pyramid(gp)"
      ],
      "execution_count": null,
      "outputs": []
    },
    {
      "cell_type": "code",
      "metadata": {
        "id": "lgA7R00B8-J2",
        "colab_type": "code",
        "colab": {}
      },
      "source": [
        ""
      ],
      "execution_count": null,
      "outputs": []
    },
    {
      "cell_type": "code",
      "metadata": {
        "colab_type": "code",
        "id": "z9nY1KZAvcMG",
        "colab": {}
      },
      "source": [
        "def subtract(input1, input2):\n",
        "  assert (input1.shape == input2.shape), \"Imagenes deben tener igual tamano\"\n",
        "  \n",
        "  output = input1 - input2\n",
        "  return output"
      ],
      "execution_count": null,
      "outputs": []
    },
    {
      "cell_type": "code",
      "metadata": {
        "id": "wZE0iqIf9F5N",
        "colab_type": "code",
        "colab": {}
      },
      "source": [
        "# Probemos la funcion subtract:\n",
        "input1 = np.copy(input)\n",
        "input2 = do_blur(input1, 2, 7)\n",
        "sub_result = subtract(input1=input1, input2 = input2)\n",
        "cv2_imshow(sub_result)"
      ],
      "execution_count": null,
      "outputs": []
    },
    {
      "cell_type": "code",
      "metadata": {
        "colab_type": "code",
        "id": "0pusvsgHwlou",
        "colab": {}
      },
      "source": [
        "def add(input1, input2):\n",
        "  assert (input1.shape == input2.shape), \"Imagenes deben tener igual tamano\"\n",
        "  output = input1 + input2\n",
        "  return output"
      ],
      "execution_count": null,
      "outputs": []
    },
    {
      "cell_type": "code",
      "metadata": {
        "id": "r3Cz_Cjg-crI",
        "colab_type": "code",
        "colab": {}
      },
      "source": [
        "# Prueba de add:\n",
        "add_result = add(sub_result, input2)\n",
        "cv2_imshow(add_result)"
      ],
      "execution_count": null,
      "outputs": []
    },
    {
      "cell_type": "code",
      "metadata": {
        "colab_type": "code",
        "id": "lfcgmYE5wq9d",
        "colab": {}
      },
      "source": [
        "def scale_abs(input, factor):\n",
        "  output = np.zeros_like(input)\n",
        "  # Por hacer: aplicar valor absoluto a los pixeles de la imagen pixel a pixel y luego escalar los pixeles usando el factor indicado\n",
        "  for i in range(input.shape[0]):\n",
        "    for j in range(input.shape[1]):\n",
        "      output[i][j] = np.abs(input[i][j]) * factor\n",
        "  \n",
        "  return np.float32(output)"
      ],
      "execution_count": null,
      "outputs": []
    },
    {
      "cell_type": "code",
      "metadata": {
        "id": "iYtpDJF5Dciv",
        "colab_type": "code",
        "colab": {}
      },
      "source": [
        "# Probemos la funcion scale_abs:\n",
        "cv2_imshow(scale_abs(sub_result, 10))"
      ],
      "execution_count": null,
      "outputs": []
    },
    {
      "cell_type": "code",
      "metadata": {
        "colab_type": "code",
        "id": "SwQvODNNxFJ3",
        "colab": {}
      },
      "source": [
        "def compute_laplace_pyramid(input, nlevels):\n",
        "  gausspyramid = []\n",
        "  laplacepyramid = []\n",
        "  current = np.copy(input)\n",
        "  gausspyramid.append(current)\n",
        "  for i in range(1, nlevels):\n",
        "    # Por hacer:\n",
        "    # 1) Aplicar do_blur( ) a la imagen gausspyramid[i-1], con sigma 2.0 y ancho 7\n",
        "    blur_im = do_blur(input = gausspyramid[i-1], sigma = 2, height = 7)\n",
        "    # 2) Guardar en laplacepiramid el resultado de restar gausspyramid[i - 1] y la imagen calculada en (1)\n",
        "    laplacepyramid.append(np.float32(subtract(input1 = gausspyramid[i-1], input2 = blur_im)))\n",
        "    # 3) Submuestrear la imagen calculada en (1), guardar el resultado en current\n",
        "    current = subsample( input = blur_im )\n",
        "    gausspyramid.append(current)\n",
        "  laplacepyramid.append(current)  # Se agrega el ultimo piso de la piramide de Laplace\n",
        "  return laplacepyramid"
      ],
      "execution_count": null,
      "outputs": []
    },
    {
      "cell_type": "code",
      "metadata": {
        "id": "IqoYUi8ITgi6",
        "colab_type": "code",
        "colab": {}
      },
      "source": [
        "lp = compute_laplace_pyramid(input, 3)"
      ],
      "execution_count": null,
      "outputs": []
    },
    {
      "cell_type": "code",
      "metadata": {
        "colab_type": "code",
        "id": "uRGD7xMUyDiX",
        "colab": {}
      },
      "source": [
        "def show_laplace_pyramid(pyramid):\n",
        "  # Por hacer: mostrar las imagenes de la piramide de laplace:\n",
        "  #  Las imagenes deben ser escaladas antes de mostrarse usando scale_abs\n",
        "  #  Sin embargo, la ultima imagen del ultimo piso se muestra tal cual\n",
        "  # Se recomienda usar cv2_imshow( ) para mostrar las imagenes\n",
        "  for i, im in enumerate(pyramid):\n",
        "    lvl = i + 1\n",
        "    print(\"Imagen para nivel \", lvl)\n",
        "    if i != len(pyramid)-1:\n",
        "      cv2_imshow( scale_abs(im, 5) )\n",
        "    else:\n",
        "      cv2_imshow( im ) "
      ],
      "execution_count": null,
      "outputs": []
    },
    {
      "cell_type": "code",
      "metadata": {
        "id": "-oyAL6-FWcfh",
        "colab_type": "code",
        "colab": {}
      },
      "source": [
        "show_laplace_pyramid(lp)"
      ],
      "execution_count": null,
      "outputs": []
    },
    {
      "cell_type": "code",
      "metadata": {
        "colab_type": "code",
        "id": "fz8_g3P-yajA",
        "colab": {}
      },
      "source": [
        "def upsample(input):\n",
        "  # Por hacer: implementar duplicacion del tamaño de imagen pixel a pixel\n",
        "  # Un pixel de la imagen de salida debe ser el promedio de los 4 pixeles mas cercanos de la imagen de entrada\n",
        "\n",
        "  def get_neighbours(input,i,j):\n",
        "    ''' FUNCION AUXILIAR\n",
        "    Funcion que entrega el promedio de los 4 pixeles mas cercanos.\n",
        "    Args: \n",
        "      input: imagen de entrada\n",
        "    '''\n",
        "    counter = 0\n",
        "    # Se realizan 4 bloques de try/except para que al llegar a los bordes, no arroje\n",
        "    #errores la funcion. \n",
        "    try:\n",
        "      a = input[i][j-1]\n",
        "      counter += 1\n",
        "    except IndexError:\n",
        "      a = 0\n",
        "    \n",
        "    try:\n",
        "      b = input[i][j+1]\n",
        "      counter += 1\n",
        "    except IndexError:\n",
        "      b = 0\n",
        "\n",
        "    try:\n",
        "      c = input[i-1][j]\n",
        "      counter += 1\n",
        "    except IndexError:\n",
        "      c = 0\n",
        "    \n",
        "    try:\n",
        "      c = input[i-1][j]\n",
        "      counter += 1\n",
        "    except IndexError:\n",
        "      c = 0\n",
        "\n",
        "    try:\n",
        "      d = input[i+1][j]\n",
        "      counter += 1\n",
        "    except IndexError:\n",
        "      d = 0\n",
        "\n",
        "    result = (input[i][j] + a + b + c + d)/(counter + 1)\n",
        "    \n",
        "    return np.float32(result)\n",
        "\n",
        "  # Se debe tener cuidado de que los indices no salgan fuera del tamano de la imagen\n",
        "  output = np.zeros(shape = [input.shape[0]*2, input.shape[1]*2], dtype = np.float32)\n",
        "  for i in range(output.shape[0]):\n",
        "    for j in range(output.shape[1]):\n",
        "      output[i][j] = get_neighbours(input,i//2, j//2)\n",
        "  return output\n"
      ],
      "execution_count": null,
      "outputs": []
    },
    {
      "cell_type": "code",
      "metadata": {
        "id": "gfj_z8VjbG0z",
        "colab_type": "code",
        "colab": {}
      },
      "source": [
        "# Probemos la funcion upsample:\n",
        "im_upsampled = upsample(scale_abs(lp[0],5))\n",
        "cv2_imshow(im_upsampled)"
      ],
      "execution_count": null,
      "outputs": []
    },
    {
      "cell_type": "code",
      "metadata": {
        "id": "0W0QR7gMlRPQ",
        "colab_type": "code",
        "colab": {}
      },
      "source": [
        "laplacepyramid = compute_laplace_pyramid(input, 5)\n",
        "#show_laplace_pyramid(laplacepyramid)"
      ],
      "execution_count": null,
      "outputs": []
    },
    {
      "cell_type": "code",
      "metadata": {
        "colab_type": "code",
        "id": "szWcyqzpyaxG",
        "colab": {}
      },
      "source": [
        "def reconstruct(laplacepyramid):\n",
        "  output = np.copy( laplacepyramid[len(laplacepyramid)-1] )\n",
        "  for i in range(1, len(laplacepyramid)):\n",
        "    lev = int(len(laplacepyramid)) - i - 1\n",
        "    # Por hacer: repetir estos dos pasos:\n",
        "    # (1) Duplicar tamano output usando upsample( )\n",
        "    # (2) Sumar resultado de (1) y laplacepyramid[lev] usando add( ), almacenar en output\n",
        "    output[i] = add(input1 = upsample(output[i-1]), input2 = laplacepyramid[lev]) \n",
        "  return output"
      ],
      "execution_count": null,
      "outputs": []
    },
    {
      "cell_type": "code",
      "metadata": {
        "id": "fAdg_DMXiShO",
        "colab_type": "code",
        "colab": {}
      },
      "source": [
        "print('reconstruida:')\n",
        "reconstr = reconstruct(laplacepyramid)\n",
        "cv2_imshow(reconstr)"
      ],
      "execution_count": null,
      "outputs": []
    },
    {
      "cell_type": "code",
      "metadata": {
        "colab_type": "code",
        "id": "1PW3w0jQJZI7",
        "colab": {}
      },
      "source": [
        "ls"
      ],
      "execution_count": null,
      "outputs": []
    },
    {
      "cell_type": "code",
      "metadata": {
        "colab_type": "code",
        "id": "mkRcGefA0GA_",
        "colab": {}
      },
      "source": [
        "#originalRGB = cv2.imread('frutas.png') #Leer imagen\n",
        "originalRGB = cv2.imread('madera.png') #Leer imagen\n",
        "#originalRGB = cv2.imread('poligonos.png') #Leer imagen\n",
        "#originalRGB = cv2.imread('techo.png') #Leer imagen\n",
        "\n",
        "if originalRGB is None:\n",
        "  assert False, 'Imagen no encontrada'\n",
        "\n",
        "if len(originalRGB.shape) == 3:\n",
        "  original = cv2.cvtColor(originalRGB, cv2.COLOR_BGR2GRAY)\n",
        "else:\n",
        "  original = originalRGB\n",
        "\n",
        "input = np.float32( original )\n",
        "\n",
        "print('Piramide de gauss:')\n",
        "gausspyramid = compute_gauss_pyramid(input, 5)\n",
        "show_gauss_pyramid(gausspyramid)\n",
        "\n",
        "print('Piramide de laplace:')\n",
        "laplacepyramid = compute_laplace_pyramid(input, 5)\n",
        "show_laplace_pyramid(laplacepyramid)\n",
        "\n",
        "print('reconstruida:')\n",
        "reconstr = reconstruct(laplacepyramid)\n",
        "cv2_imshow(reconstr)"
      ],
      "execution_count": null,
      "outputs": []
    },
    {
      "cell_type": "code",
      "metadata": {
        "colab_type": "code",
        "id": "rtOAsBzj1QiX",
        "colab": {}
      },
      "source": [
        ""
      ],
      "execution_count": null,
      "outputs": []
    },
    {
      "cell_type": "code",
      "metadata": {
        "colab_type": "code",
        "id": "vHbX0q89nln-",
        "colab": {}
      },
      "source": [
        ""
      ],
      "execution_count": null,
      "outputs": []
    },
    {
      "cell_type": "code",
      "metadata": {
        "colab_type": "code",
        "id": "_0dTURe8txZH",
        "colab": {}
      },
      "source": [
        ""
      ],
      "execution_count": null,
      "outputs": []
    },
    {
      "cell_type": "code",
      "metadata": {
        "colab_type": "code",
        "id": "ZCk9JFaRuNTZ",
        "colab": {}
      },
      "source": [
        ""
      ],
      "execution_count": null,
      "outputs": []
    }
  ]
}